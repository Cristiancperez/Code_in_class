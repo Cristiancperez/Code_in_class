{
  "nbformat": 4,
  "nbformat_minor": 0,
  "metadata": {
    "colab": {
      "name": "Project.ipynb",
      "provenance": [],
      "authorship_tag": "ABX9TyNIfQfFO/3ceNP2Gt94eJay",
      "include_colab_link": true
    },
    "kernelspec": {
      "name": "python3",
      "display_name": "Python 3"
    },
    "language_info": {
      "name": "python"
    }
  },
  "cells": [
    {
      "cell_type": "markdown",
      "metadata": {
        "id": "view-in-github",
        "colab_type": "text"
      },
      "source": [
        "<a href=\"https://colab.research.google.com/github/Cristiancperez/Code_in_class/blob/main/Project.ipynb\" target=\"_parent\"><img src=\"https://colab.research.google.com/assets/colab-badge.svg\" alt=\"Open In Colab\"/></a>"
      ]
    },
    {
      "cell_type": "markdown",
      "source": [
        "# **First Part** \n",
        "\n",
        "\n",
        "Picth \n",
        "\n",
        "Format - .ipynb\n",
        "\n",
        "Contents:\n",
        "\n",
        "1. Variable:\n",
        "\n",
        "    1.1. Name. \n",
        "\n",
        "    1.2. Period or dates, And frequency.\n",
        "\n",
        "    1.3. Source. (With links).\n",
        "\n",
        "2. Goal of the DV\n",
        "\n",
        "    2.1. Story.\n",
        "\n",
        "    2.2. Audience.\n",
        "\n",
        "    2.3. Justify the DV type.\n",
        "\n",
        "3. Examples \n",
        "\n",
        "    3.1. Example A.\n",
        "         * 2.1, 2.2, 2.3.\n",
        "    3.2. Example B.\n",
        "         * 2.1, 2.2, 2.3.\n",
        "\n",
        "Each element worths 1.25 units, the final 1.25 is given according to order \n",
        "\n"
      ],
      "metadata": {
        "id": "5FTyUi-cQtsN"
      }
    }
  ]
}