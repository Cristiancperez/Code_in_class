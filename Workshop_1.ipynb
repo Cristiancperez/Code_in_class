{
  "nbformat": 4,
  "nbformat_minor": 0,
  "metadata": {
    "colab": {
      "name": "Workshop 1.ipynb",
      "provenance": [],
      "include_colab_link": true
    },
    "kernelspec": {
      "name": "python3",
      "display_name": "Python 3"
    },
    "language_info": {
      "name": "python"
    }
  },
  "cells": [
    {
      "cell_type": "markdown",
      "metadata": {
        "id": "view-in-github",
        "colab_type": "text"
      },
      "source": [
        "<a href=\"https://colab.research.google.com/github/Cristiancperez/Code_in_class/blob/main/Workshop_1.ipynb\" target=\"_parent\"><img src=\"https://colab.research.google.com/assets/colab-badge.svg\" alt=\"Open In Colab\"/></a>"
      ]
    },
    {
      "cell_type": "markdown",
      "source": [
        "<h1 align = \"center\">\n",
        "<strong> Universidad de La Salle </strong>\n",
        "</h1>\n",
        "\n",
        "<h1 align = \"center\">\n",
        "<strong> Finance and International Commerce Program </strong>\n",
        "</h1>\n",
        "\n",
        "<h1 align = \"center\">\n",
        "<strong> Data Visualization - Workshop 1 </strong>\n",
        "</h1>\n"
      ],
      "metadata": {
        "id": "BJolccUZSw9G"
      }
    },
    {
      "cell_type": "markdown",
      "source": [
        "# **Instructions**\n",
        "\n",
        "1. Please read carefully the document. Ask all the questions you may have.\n",
        "2. Save this file in your Google Drive.\n",
        "3. DO NOT alter any cell unless it specifically ask you to do it.\n",
        "4. You will have **two hours** (until 11am) maximum to finish and deliver this workshop.\n",
        "5. You can use any help you want: your notes, your codes, internet, classmates.\n",
        "6. Nevertheless, the workshop must be presented individually.\n",
        "7. Once you have finish, save a copy in your GitHub class repository.\n",
        "8. The deliver process is as follows:\n",
        "    \n",
        "    8.1. Via email you will send the link to the GitHub location.\n",
        "    \n",
        "    8.2. In the same mail, just for safety, you will attach a copy of your `.ipynb` file.\n",
        "    \n",
        "    8.3. The email must have the subject: \"W1 DV\".   "
      ],
      "metadata": {
        "id": "pLRc5RAyWsre"
      }
    },
    {
      "cell_type": "markdown",
      "source": [
        "# **To keep in mind**\n",
        "\n",
        "* The excercises propouse are intended to **push** you a little futher in your Pyton skills.\n",
        "* This means that there are going to be exercises above the level seen in class.\n",
        "* The idea is to incentive your creative thinking and solving problem skills.\n",
        "* As always there several ways to do the excersice. But in this case, I ask you to use only the tools we learned.\n",
        "* I ask you to trust me. Give your best effort. Grades do not matter here. "
      ],
      "metadata": {
        "id": "4QKdNKujZEbk"
      }
    },
    {
      "cell_type": "markdown",
      "source": [
        "# **Exercise Set**"
      ],
      "metadata": {
        "id": "2kRoSKUmaGl9"
      }
    },
    {
      "cell_type": "markdown",
      "source": [
        "## Ex 1.\n",
        "\n",
        "In the cell code below, first create a variable with your full name then write the appropiate code, using *sciling*, to print your full name as this:\n",
        "\n",
        "`First Name: José` &nbsp;   &nbsp;   &nbsp;   &nbsp;   &nbsp; `Middle Name: Rodrigo`\n",
        "\n",
        "`First Last  Name: Vélez` &nbsp;   &nbsp;   &nbsp;   &nbsp;   &nbsp; `Second Last Name: Molano`"
      ],
      "metadata": {
        "id": "LAdWe8iEaL7B"
      }
    },
    {
      "cell_type": "code",
      "execution_count": null,
      "metadata": {
        "id": "rw792kISSt3n",
        "colab": {
          "base_uri": "https://localhost:8080/"
        },
        "outputId": "dd330817-5781-4a57-bfa7-ab939f93fc33"
      },
      "outputs": [
        {
          "output_type": "stream",
          "name": "stdout",
          "text": [
            "First Name: Cristian \t Middle Name: Camilo\n",
            "First Last Name: Perez  \t Second Last Name: Avila\n"
          ]
        }
      ],
      "source": [
        "# Answ. Ex 1\n",
        "# (write your code below)\n",
        "a = 'Cristian Camilo Perez Avila'\n",
        "print('First Name:', a[0:8],'\\t','Middle Name:', a[9:15])           \n",
        "print('First Last Name:', a[16:22],'\\t','Second Last Name:', a[22:27])\n",
        "\n"
      ]
    },
    {
      "cell_type": "markdown",
      "source": [
        "## Ex 2.\n",
        "\n",
        "In the cell code below, you are given two random numbers `x` and `y`. \n",
        "\n",
        "Write the appropiate code to print the result of dividing `x` by all its precedents rounded by `y` decimal positions.\n",
        "\n",
        "This is an example of the expected result for `x = 15` and `y = 2`:\n",
        "\n",
        "`15 / 1 = 15.00`\n",
        "\n",
        "`15 / 2 = 7.50`\n",
        "\n",
        "`15 / 3 = 5.00`\n",
        "\n",
        "`...`\n",
        "\n",
        "`15 / 15 = 1.00`\n",
        "\n",
        "**JUST IN CASE!** You must use the variables given to you"
      ],
      "metadata": {
        "id": "YFsGiwcNfgzP"
      }
    },
    {
      "cell_type": "code",
      "source": [
        "# Answ. Ex 2 \n",
        "###################################\n",
        "#      DO NOT MODIFY THIS PART    #\n",
        "import numpy as np\n",
        "x = round(np.random.uniform(12,22))\n",
        "y = round(np.random.uniform(1,4))\n",
        "###################################\n",
        "\n",
        "# (write your code below)\n",
        "print('Dividing', x ,'by all its preceding rounded to', y ,'decimals places')\n",
        "\n",
        "for i in range(1,x+1): print(x,'/',i,'=', round(x/i,y)) \n"
      ],
      "metadata": {
        "id": "Dwdsh30Ti3vl",
        "colab": {
          "base_uri": "https://localhost:8080/"
        },
        "outputId": "fdb6b3cf-40d5-46c2-ed3d-50df534c9020"
      },
      "execution_count": null,
      "outputs": [
        {
          "output_type": "stream",
          "name": "stdout",
          "text": [
            "Dividing 15 by all its preceding rounded to 2 decimals places\n",
            "15 / 1 = 15.0\n",
            "15 / 2 = 7.5\n",
            "15 / 3 = 5.0\n",
            "15 / 4 = 3.75\n",
            "15 / 5 = 3.0\n",
            "15 / 6 = 2.5\n",
            "15 / 7 = 2.14\n",
            "15 / 8 = 1.88\n",
            "15 / 9 = 1.67\n",
            "15 / 10 = 1.5\n",
            "15 / 11 = 1.36\n",
            "15 / 12 = 1.25\n",
            "15 / 13 = 1.15\n",
            "15 / 14 = 1.07\n",
            "15 / 15 = 1.0\n"
          ]
        }
      ]
    },
    {
      "cell_type": "markdown",
      "source": [
        "## Ex 3. \n",
        "\n",
        "The Fibonnaci sequence is a sequence constructed by the process:\n",
        "\n",
        "$x_{i} = x_{i-1} + x_{i-2}$\n",
        "\n",
        "where $x_{1} = x_{2} = 1$.\n",
        "\n",
        "Below you are given a random number `z`, write the appropiate code to calculate and print the `z`th position of the Fibonnaci sequence. \n",
        "\n",
        "\n"
      ],
      "metadata": {
        "id": "PYIRNu3imJ_n"
      }
    },
    {
      "cell_type": "code",
      "source": [
        "# Answ. Ex 3\n",
        "###################################\n",
        "#      DO NOT MODIFY THIS PART    #\n",
        "import numpy as np\n",
        "z = round(np.random.uniform(50,100))\n",
        "###################################\n",
        "\n",
        "# (write your code below)\n",
        "\n",
        "f1 = 1\n",
        "f2 = 1\n",
        "\n",
        "print('Fibonnaci Sequence up to', z, 'th')\n",
        "for i in range(3,z+1):\n",
        "  f = f1 + f2 \n",
        "  print('Position', i, 'th:', f)\n",
        "  f1 = f2 \n",
        "  f2 = f\n",
        "\n"
      ],
      "metadata": {
        "id": "wntlZUatp9uE",
        "colab": {
          "base_uri": "https://localhost:8080/"
        },
        "outputId": "bf0ffa95-178a-4991-fd1f-de313394679a"
      },
      "execution_count": 4,
      "outputs": [
        {
          "output_type": "stream",
          "name": "stdout",
          "text": [
            "Fibonnaci Sequence up to 57 th\n",
            "Position 3 th: 2\n",
            "Position 4 th: 3\n",
            "Position 5 th: 5\n",
            "Position 6 th: 8\n",
            "Position 7 th: 13\n",
            "Position 8 th: 21\n",
            "Position 9 th: 34\n",
            "Position 10 th: 55\n",
            "Position 11 th: 89\n",
            "Position 12 th: 144\n",
            "Position 13 th: 233\n",
            "Position 14 th: 377\n",
            "Position 15 th: 610\n",
            "Position 16 th: 987\n",
            "Position 17 th: 1597\n",
            "Position 18 th: 2584\n",
            "Position 19 th: 4181\n",
            "Position 20 th: 6765\n",
            "Position 21 th: 10946\n",
            "Position 22 th: 17711\n",
            "Position 23 th: 28657\n",
            "Position 24 th: 46368\n",
            "Position 25 th: 75025\n",
            "Position 26 th: 121393\n",
            "Position 27 th: 196418\n",
            "Position 28 th: 317811\n",
            "Position 29 th: 514229\n",
            "Position 30 th: 832040\n",
            "Position 31 th: 1346269\n",
            "Position 32 th: 2178309\n",
            "Position 33 th: 3524578\n",
            "Position 34 th: 5702887\n",
            "Position 35 th: 9227465\n",
            "Position 36 th: 14930352\n",
            "Position 37 th: 24157817\n",
            "Position 38 th: 39088169\n",
            "Position 39 th: 63245986\n",
            "Position 40 th: 102334155\n",
            "Position 41 th: 165580141\n",
            "Position 42 th: 267914296\n",
            "Position 43 th: 433494437\n",
            "Position 44 th: 701408733\n",
            "Position 45 th: 1134903170\n",
            "Position 46 th: 1836311903\n",
            "Position 47 th: 2971215073\n",
            "Position 48 th: 4807526976\n",
            "Position 49 th: 7778742049\n",
            "Position 50 th: 12586269025\n",
            "Position 51 th: 20365011074\n",
            "Position 52 th: 32951280099\n",
            "Position 53 th: 53316291173\n",
            "Position 54 th: 86267571272\n",
            "Position 55 th: 139583862445\n",
            "Position 56 th: 225851433717\n",
            "Position 57 th: 365435296162\n"
          ]
        }
      ]
    },
    {
      "cell_type": "code",
      "source": [
        "f1 = 1\n",
        "f2 = 1\n",
        "\n",
        "\n",
        "for i in range(3,z):\n",
        "  f = f1 + f2 \n",
        "  f1 = f2 \n",
        "  f2 = f\n",
        "\n",
        "f = f1 + f2\n",
        "print('Position', z, 'Fibonnaci Sequence is:', f)"
      ],
      "metadata": {
        "colab": {
          "base_uri": "https://localhost:8080/"
        },
        "id": "GdhDd1SwXPsD",
        "outputId": "ebbd99a1-9ceb-4051-90a4-6515f29b2d12"
      },
      "execution_count": 6,
      "outputs": [
        {
          "output_type": "stream",
          "name": "stdout",
          "text": [
            "Position 57 Fibonnaci Sequence is: 365435296162\n"
          ]
        }
      ]
    },
    {
      "cell_type": "markdown",
      "source": [
        "## Ex 4.\n",
        "\n",
        "Create a string variable with the name of your favorite music artist or group.Write the appropiate code to print it in reversed order.\n",
        "\n",
        "*Example:*\n",
        "\n",
        "`w = 'Dog'`\n",
        "\n",
        "Expected result: `'goD'`.\n",
        "\n",
        "\n",
        "\n"
      ],
      "metadata": {
        "id": "2t2WnRieqLoc"
      }
    },
    {
      "cell_type": "code",
      "source": [
        "# Answ. Ex 4\n",
        "# (write your code below)\n",
        "\n",
        "w = 'Dog'\n",
        "nw = ''\n",
        "\n",
        "for i in range(1,4):\n",
        "  nw += w[-i]\n",
        "\n",
        "print('Original Word:', w)\n",
        "print('Reversed Word:',nw)\n"
      ],
      "metadata": {
        "id": "FQU_vc_5sse0",
        "colab": {
          "base_uri": "https://localhost:8080/"
        },
        "outputId": "2f509f6b-1076-4659-9e12-31c3c96c3f50"
      },
      "execution_count": 8,
      "outputs": [
        {
          "output_type": "stream",
          "name": "stdout",
          "text": [
            "Original Word: Dog\n",
            "Reversed Word: goD\n"
          ]
        }
      ]
    }
  ]
}