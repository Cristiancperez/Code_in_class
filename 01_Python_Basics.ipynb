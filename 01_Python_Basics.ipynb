{
  "nbformat": 4,
  "nbformat_minor": 0,
  "metadata": {
    "colab": {
      "name": "01 -.- Python Basics.ipynb",
      "provenance": [],
      "toc_visible": true,
      "authorship_tag": "ABX9TyMKEXgwifcTzokdiw1Kb2VH",
      "include_colab_link": true
    },
    "kernelspec": {
      "name": "python3",
      "display_name": "Python 3"
    },
    "language_info": {
      "name": "python"
    }
  },
  "cells": [
    {
      "cell_type": "markdown",
      "metadata": {
        "id": "view-in-github",
        "colab_type": "text"
      },
      "source": [
        "<a href=\"https://colab.research.google.com/github/Cristiancperez/Code_in_class/blob/main/01_Python_Basics.ipynb\" target=\"_parent\"><img src=\"https://colab.research.google.com/assets/colab-badge.svg\" alt=\"Open In Colab\"/></a>"
      ]
    },
    {
      "cell_type": "markdown",
      "source": [
        ""
      ],
      "metadata": {
        "id": "k9BSwK61MgxY"
      }
    },
    {
      "cell_type": "markdown",
      "source": [
        "# Introduction\n",
        "\n",
        "We are going "
      ],
      "metadata": {
        "id": "DGT7hejoMiRz"
      }
    },
    {
      "cell_type": "markdown",
      "source": [
        "# **1. What is Python?**\n",
        "\n",
        "It was 1991 and can do anything"
      ],
      "metadata": {
        "id": "gDe_txQzMxmu"
      }
    },
    {
      "cell_type": "markdown",
      "source": [
        "# **2.Why Python?**\n",
        "\n",
        "It is free.\n",
        "It is open source.\n",
        "Is is very easy to learn..**bold text**"
      ],
      "metadata": {
        "id": "VGaubMv_Nfs_"
      }
    },
    {
      "cell_type": "markdown",
      "source": [
        "# **3.Getting Started**\n",
        "\n"
      ],
      "metadata": {
        "id": "3Oc8Ln3KOkmM"
      }
    },
    {
      "cell_type": "markdown",
      "source": [
        "## 3.1 Python as a Calculator"
      ],
      "metadata": {
        "id": "nYi5eS7aO2CD"
      }
    },
    {
      "cell_type": "code",
      "source": [
        "# Addition\n",
        "2+2"
      ],
      "metadata": {
        "colab": {
          "base_uri": "https://localhost:8080/"
        },
        "id": "6KKRI7XnPCWG",
        "outputId": "441bd873-e1f9-4fd9-9220-5ffd2a8932ed"
      },
      "execution_count": 1,
      "outputs": [
        {
          "output_type": "execute_result",
          "data": {
            "text/plain": [
              "4"
            ]
          },
          "metadata": {},
          "execution_count": 1
        }
      ]
    },
    {
      "cell_type": "code",
      "source": [
        "# Substraction\n",
        "2-2"
      ],
      "metadata": {
        "colab": {
          "base_uri": "https://localhost:8080/"
        },
        "id": "6nWouv2iP237",
        "outputId": "30dda06f-1e02-42ce-c159-d4cb16eb78e5"
      },
      "execution_count": 2,
      "outputs": [
        {
          "output_type": "execute_result",
          "data": {
            "text/plain": [
              "0"
            ]
          },
          "metadata": {},
          "execution_count": 2
        }
      ]
    },
    {
      "cell_type": "code",
      "source": [
        "# Multiplication\n",
        "9*3"
      ],
      "metadata": {
        "colab": {
          "base_uri": "https://localhost:8080/"
        },
        "id": "AbCQK04jQFZa",
        "outputId": "477e71b3-59fa-43ff-c657-6593b53841b3"
      },
      "execution_count": 3,
      "outputs": [
        {
          "output_type": "execute_result",
          "data": {
            "text/plain": [
              "27"
            ]
          },
          "metadata": {},
          "execution_count": 3
        }
      ]
    },
    {
      "cell_type": "code",
      "source": [
        "# Exponential\n",
        "5**3"
      ],
      "metadata": {
        "colab": {
          "base_uri": "https://localhost:8080/"
        },
        "id": "W1DS9_l_QeTO",
        "outputId": "0136dd0f-5adc-40f6-a165-3e5e42ab4eea"
      },
      "execution_count": 4,
      "outputs": [
        {
          "output_type": "execute_result",
          "data": {
            "text/plain": [
              "125"
            ]
          },
          "metadata": {},
          "execution_count": 4
        }
      ]
    },
    {
      "cell_type": "code",
      "source": [
        "# Division\n",
        "10/3"
      ],
      "metadata": {
        "colab": {
          "base_uri": "https://localhost:8080/"
        },
        "id": "nF9ByrgSQrI4",
        "outputId": "789cde98-2f2e-4972-a801-f8bfae551b44"
      },
      "execution_count": 8,
      "outputs": [
        {
          "output_type": "execute_result",
          "data": {
            "text/plain": [
              "3.3333333333333335"
            ]
          },
          "metadata": {},
          "execution_count": 8
        }
      ]
    },
    {
      "cell_type": "code",
      "source": [
        "# Integer Division\n",
        "10//3\n"
      ],
      "metadata": {
        "colab": {
          "base_uri": "https://localhost:8080/"
        },
        "id": "rfP2jDRDQ8PN",
        "outputId": "8a3058f8-15fe-47bb-e712-915377f786c8"
      },
      "execution_count": 6,
      "outputs": [
        {
          "output_type": "execute_result",
          "data": {
            "text/plain": [
              "3"
            ]
          },
          "metadata": {},
          "execution_count": 6
        }
      ]
    },
    {
      "cell_type": "markdown",
      "source": [
        ""
      ],
      "metadata": {
        "id": "IaQvClfDO7Ks"
      }
    }
  ]
}