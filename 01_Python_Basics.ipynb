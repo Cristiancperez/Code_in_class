{
  "nbformat": 4,
  "nbformat_minor": 0,
  "metadata": {
    "colab": {
      "name": "01 -.- Python Basics.ipynb",
      "provenance": [],
      "toc_visible": true,
      "authorship_tag": "ABX9TyPYgC7rxEOcs9KISRQWnQ9V",
      "include_colab_link": true
    },
    "kernelspec": {
      "name": "python3",
      "display_name": "Python 3"
    },
    "language_info": {
      "name": "python"
    }
  },
  "cells": [
    {
      "cell_type": "markdown",
      "metadata": {
        "id": "view-in-github",
        "colab_type": "text"
      },
      "source": [
        "<a href=\"https://colab.research.google.com/github/Cristiancperez/Code_in_class/blob/main/01_Python_Basics.ipynb\" target=\"_parent\"><img src=\"https://colab.research.google.com/assets/colab-badge.svg\" alt=\"Open In Colab\"/></a>"
      ]
    },
    {
      "cell_type": "markdown",
      "source": [
        ""
      ],
      "metadata": {
        "id": "k9BSwK61MgxY"
      }
    },
    {
      "cell_type": "markdown",
      "source": [
        "# Introduction\n",
        "\n",
        "We are going "
      ],
      "metadata": {
        "id": "DGT7hejoMiRz"
      }
    },
    {
      "cell_type": "markdown",
      "source": [
        "# **1. What is Python?**\n",
        "\n",
        "It was 1991 and can do anything"
      ],
      "metadata": {
        "id": "gDe_txQzMxmu"
      }
    },
    {
      "cell_type": "markdown",
      "source": [
        "# **2.Why Python?**\n",
        "\n",
        "It is free.\n",
        "It is open source.\n",
        "Is is very easy to learn..**bold text**"
      ],
      "metadata": {
        "id": "VGaubMv_Nfs_"
      }
    },
    {
      "cell_type": "markdown",
      "source": [
        "# **3.Getting Started**\n",
        "\n"
      ],
      "metadata": {
        "id": "3Oc8Ln3KOkmM"
      }
    },
    {
      "cell_type": "markdown",
      "source": [
        "## 3.1 Python as a Calculator"
      ],
      "metadata": {
        "id": "nYi5eS7aO2CD"
      }
    },
    {
      "cell_type": "code",
      "source": [
        "# Addition\n",
        "2+2"
      ],
      "metadata": {
        "colab": {
          "base_uri": "https://localhost:8080/"
        },
        "id": "6KKRI7XnPCWG",
        "outputId": "441bd873-e1f9-4fd9-9220-5ffd2a8932ed"
      },
      "execution_count": null,
      "outputs": [
        {
          "output_type": "execute_result",
          "data": {
            "text/plain": [
              "4"
            ]
          },
          "metadata": {},
          "execution_count": 1
        }
      ]
    },
    {
      "cell_type": "code",
      "source": [
        "# Substraction\n",
        "2-2"
      ],
      "metadata": {
        "colab": {
          "base_uri": "https://localhost:8080/"
        },
        "id": "6nWouv2iP237",
        "outputId": "30dda06f-1e02-42ce-c159-d4cb16eb78e5"
      },
      "execution_count": null,
      "outputs": [
        {
          "output_type": "execute_result",
          "data": {
            "text/plain": [
              "0"
            ]
          },
          "metadata": {},
          "execution_count": 2
        }
      ]
    },
    {
      "cell_type": "code",
      "source": [
        "# Multiplication\n",
        "9*3"
      ],
      "metadata": {
        "colab": {
          "base_uri": "https://localhost:8080/"
        },
        "id": "AbCQK04jQFZa",
        "outputId": "477e71b3-59fa-43ff-c657-6593b53841b3"
      },
      "execution_count": null,
      "outputs": [
        {
          "output_type": "execute_result",
          "data": {
            "text/plain": [
              "27"
            ]
          },
          "metadata": {},
          "execution_count": 3
        }
      ]
    },
    {
      "cell_type": "code",
      "source": [
        "# Exponential\n",
        "5**3"
      ],
      "metadata": {
        "colab": {
          "base_uri": "https://localhost:8080/"
        },
        "id": "W1DS9_l_QeTO",
        "outputId": "0136dd0f-5adc-40f6-a165-3e5e42ab4eea"
      },
      "execution_count": null,
      "outputs": [
        {
          "output_type": "execute_result",
          "data": {
            "text/plain": [
              "125"
            ]
          },
          "metadata": {},
          "execution_count": 4
        }
      ]
    },
    {
      "cell_type": "code",
      "source": [
        "# Division\n",
        "10/3"
      ],
      "metadata": {
        "colab": {
          "base_uri": "https://localhost:8080/"
        },
        "id": "nF9ByrgSQrI4",
        "outputId": "789cde98-2f2e-4972-a801-f8bfae551b44"
      },
      "execution_count": null,
      "outputs": [
        {
          "output_type": "execute_result",
          "data": {
            "text/plain": [
              "3.3333333333333335"
            ]
          },
          "metadata": {},
          "execution_count": 8
        }
      ]
    },
    {
      "cell_type": "code",
      "source": [
        "# Integer Division\n",
        "10//3\n"
      ],
      "metadata": {
        "colab": {
          "base_uri": "https://localhost:8080/"
        },
        "id": "rfP2jDRDQ8PN",
        "outputId": "8a3058f8-15fe-47bb-e712-915377f786c8"
      },
      "execution_count": null,
      "outputs": [
        {
          "output_type": "execute_result",
          "data": {
            "text/plain": [
              "3"
            ]
          },
          "metadata": {},
          "execution_count": 6
        }
      ]
    },
    {
      "cell_type": "markdown",
      "source": [
        "## 3.4 Basic Functions"
      ],
      "metadata": {
        "id": "U344SsFoOJBI"
      }
    },
    {
      "cell_type": "markdown",
      "source": [
        "## **Print**\n",
        "\n"
      ],
      "metadata": {
        "id": "IMLV0oZmORZO"
      }
    },
    {
      "cell_type": "code",
      "source": [
        "# Number Example\n",
        "print(2022,8,11)"
      ],
      "metadata": {
        "colab": {
          "base_uri": "https://localhost:8080/"
        },
        "id": "UPZzH1PzOiTG",
        "outputId": "7802c3bf-3561-4155-93f9-fb85988c0649"
      },
      "execution_count": null,
      "outputs": [
        {
          "output_type": "stream",
          "name": "stdout",
          "text": [
            "2022 8 11\n"
          ]
        }
      ]
    },
    {
      "cell_type": "code",
      "source": [
        "# String (alphabet) Example \n",
        "print('Rodrigo')"
      ],
      "metadata": {
        "colab": {
          "base_uri": "https://localhost:8080/"
        },
        "id": "8c6lUXBQPL3u",
        "outputId": "0355698a-cf82-492f-961d-9d066e668bac"
      },
      "execution_count": null,
      "outputs": [
        {
          "output_type": "stream",
          "name": "stdout",
          "text": [
            "Rodrigo\n"
          ]
        }
      ]
    },
    {
      "cell_type": "code",
      "source": [
        "# More complicated string examples\n",
        "print('First Name: Rodrigo','Last Name: Velez')\n",
        "print('First Name: Rodrigo\\tLast Name: Velez')\n",
        "print('First Name: Rodrigo\\nLast Name: Velez')"
      ],
      "metadata": {
        "colab": {
          "base_uri": "https://localhost:8080/"
        },
        "id": "yZR4dzlCQMFt",
        "outputId": "ea37339f-719b-41c5-f826-2f9a77b56902"
      },
      "execution_count": null,
      "outputs": [
        {
          "output_type": "stream",
          "name": "stdout",
          "text": [
            "First Name: Rodrigo Last Name: Velez\n",
            "First Name: Rodrigo\tLast Name: Velez\n",
            "First Name: Rodrigo\n",
            "Last Name: Velez\n"
          ]
        }
      ]
    },
    {
      "cell_type": "code",
      "source": [
        "# More complicated string examples\n",
        "print('First Name:','Rodrigo','Last Name:','Velez')\n"
      ],
      "metadata": {
        "colab": {
          "base_uri": "https://localhost:8080/"
        },
        "id": "GO68uvMlRNP6",
        "outputId": "1301b635-44f0-4508-bcd6-137b1b3a6584"
      },
      "execution_count": null,
      "outputs": [
        {
          "output_type": "stream",
          "name": "stdout",
          "text": [
            "First Name: Rodrigo Last Name: Velez\n"
          ]
        }
      ]
    },
    {
      "cell_type": "code",
      "source": [
        "# More complicated number example\n",
        "for i in range(0,10): print(i)"
      ],
      "metadata": {
        "colab": {
          "base_uri": "https://localhost:8080/"
        },
        "id": "a3_Axm-dSJ1Q",
        "outputId": "c862cc0e-763c-424f-9f56-027c16a06b5d"
      },
      "execution_count": null,
      "outputs": [
        {
          "output_type": "stream",
          "name": "stdout",
          "text": [
            "0\n",
            "1\n",
            "2\n",
            "3\n",
            "4\n",
            "5\n",
            "6\n",
            "7\n",
            "8\n",
            "9\n"
          ]
        }
      ]
    },
    {
      "cell_type": "code",
      "source": [
        "# Combine string and numbers\n",
        "print('My favorite number is:', 21)"
      ],
      "metadata": {
        "colab": {
          "base_uri": "https://localhost:8080/"
        },
        "id": "glqGo3EpTLZJ",
        "outputId": "859226f4-e40d-4241-e888-942b038b5653"
      },
      "execution_count": null,
      "outputs": [
        {
          "output_type": "stream",
          "name": "stdout",
          "text": [
            "My favorite number is: 21\n"
          ]
        }
      ]
    },
    {
      "cell_type": "markdown",
      "source": [
        "## **Round**"
      ],
      "metadata": {
        "id": "BDd-JqaJTjJh"
      }
    },
    {
      "cell_type": "code",
      "source": [
        "# A simple example \n",
        "round(1.253,2)"
      ],
      "metadata": {
        "colab": {
          "base_uri": "https://localhost:8080/"
        },
        "id": "ogDVLFUtTnOS",
        "outputId": "90504c98-27c8-41b0-c454-97ae392fb690"
      },
      "execution_count": null,
      "outputs": [
        {
          "output_type": "execute_result",
          "data": {
            "text/plain": [
              "1.25"
            ]
          },
          "metadata": {},
          "execution_count": 20
        }
      ]
    },
    {
      "cell_type": "code",
      "source": [
        "# Time to practice\n",
        "# Consider the number 7.2345\n",
        "# Print every result for rounding from 3 to 0 positions\n",
        "for i in range(0,4): print(round(7.2345,i))"
      ],
      "metadata": {
        "colab": {
          "base_uri": "https://localhost:8080/"
        },
        "id": "nPsGNtBgUHaK",
        "outputId": "b1463063-13f8-4caf-c084-d6463f366f30"
      },
      "execution_count": null,
      "outputs": [
        {
          "output_type": "stream",
          "name": "stdout",
          "text": [
            "7.0\n",
            "7.2\n",
            "7.23\n",
            "7.234\n"
          ]
        }
      ]
    },
    {
      "cell_type": "code",
      "source": [
        "print('Round with', 0, 'decimals', round(7.2345,0))\n",
        "print('Round with', 1, 'decimals', round(7.2345,1))\n",
        "print('Round with', 2, 'decimals', round(7.2345,2))\n",
        "print('Round with', 3, 'decimals', round(7.2345,3))"
      ],
      "metadata": {
        "colab": {
          "base_uri": "https://localhost:8080/"
        },
        "id": "lOLQs9QWX7sY",
        "outputId": "5362a8b6-a5ae-4404-98d4-a3d87b32eed4"
      },
      "execution_count": null,
      "outputs": [
        {
          "output_type": "stream",
          "name": "stdout",
          "text": [
            "Round with 0 decimals 7.0\n",
            "Round with 1 decimals 7.2\n",
            "Round with 2 decimals 7.23\n",
            "Round with 3 decimals 7.234\n"
          ]
        }
      ]
    },
    {
      "cell_type": "code",
      "source": [
        "# If we for loops\n",
        "for i in range(0,4): print('Round with',i,'decimals', round(7.2345,i))"
      ],
      "metadata": {
        "colab": {
          "base_uri": "https://localhost:8080/"
        },
        "id": "ewidegrBYypA",
        "outputId": "612e3ca1-ffc1-4ae6-a48e-946e0d202a30"
      },
      "execution_count": null,
      "outputs": [
        {
          "output_type": "stream",
          "name": "stdout",
          "text": [
            "Round with 0 decimals 7.0\n",
            "Round with 1 decimals 7.2\n",
            "Round with 2 decimals 7.23\n",
            "Round with 3 decimals 7.234\n"
          ]
        }
      ]
    },
    {
      "cell_type": "code",
      "source": [
        "# Practice\n",
        "# Print the first 100 multiple of the number 2,\n",
        "for i in range(0,101): print('The',i,'Multiple of 2 is',i*2)"
      ],
      "metadata": {
        "colab": {
          "base_uri": "https://localhost:8080/"
        },
        "id": "DviK4S96ZqZV",
        "outputId": "a591d8a8-3d62-4673-f274-5d0fd1a07975"
      },
      "execution_count": null,
      "outputs": [
        {
          "output_type": "stream",
          "name": "stdout",
          "text": [
            "The 0 Multiple of 2 is 0\n",
            "The 1 Multiple of 2 is 2\n",
            "The 2 Multiple of 2 is 4\n",
            "The 3 Multiple of 2 is 6\n",
            "The 4 Multiple of 2 is 8\n",
            "The 5 Multiple of 2 is 10\n",
            "The 6 Multiple of 2 is 12\n",
            "The 7 Multiple of 2 is 14\n",
            "The 8 Multiple of 2 is 16\n",
            "The 9 Multiple of 2 is 18\n",
            "The 10 Multiple of 2 is 20\n",
            "The 11 Multiple of 2 is 22\n",
            "The 12 Multiple of 2 is 24\n",
            "The 13 Multiple of 2 is 26\n",
            "The 14 Multiple of 2 is 28\n",
            "The 15 Multiple of 2 is 30\n",
            "The 16 Multiple of 2 is 32\n",
            "The 17 Multiple of 2 is 34\n",
            "The 18 Multiple of 2 is 36\n",
            "The 19 Multiple of 2 is 38\n",
            "The 20 Multiple of 2 is 40\n",
            "The 21 Multiple of 2 is 42\n",
            "The 22 Multiple of 2 is 44\n",
            "The 23 Multiple of 2 is 46\n",
            "The 24 Multiple of 2 is 48\n",
            "The 25 Multiple of 2 is 50\n",
            "The 26 Multiple of 2 is 52\n",
            "The 27 Multiple of 2 is 54\n",
            "The 28 Multiple of 2 is 56\n",
            "The 29 Multiple of 2 is 58\n",
            "The 30 Multiple of 2 is 60\n",
            "The 31 Multiple of 2 is 62\n",
            "The 32 Multiple of 2 is 64\n",
            "The 33 Multiple of 2 is 66\n",
            "The 34 Multiple of 2 is 68\n",
            "The 35 Multiple of 2 is 70\n",
            "The 36 Multiple of 2 is 72\n",
            "The 37 Multiple of 2 is 74\n",
            "The 38 Multiple of 2 is 76\n",
            "The 39 Multiple of 2 is 78\n",
            "The 40 Multiple of 2 is 80\n",
            "The 41 Multiple of 2 is 82\n",
            "The 42 Multiple of 2 is 84\n",
            "The 43 Multiple of 2 is 86\n",
            "The 44 Multiple of 2 is 88\n",
            "The 45 Multiple of 2 is 90\n",
            "The 46 Multiple of 2 is 92\n",
            "The 47 Multiple of 2 is 94\n",
            "The 48 Multiple of 2 is 96\n",
            "The 49 Multiple of 2 is 98\n",
            "The 50 Multiple of 2 is 100\n",
            "The 51 Multiple of 2 is 102\n",
            "The 52 Multiple of 2 is 104\n",
            "The 53 Multiple of 2 is 106\n",
            "The 54 Multiple of 2 is 108\n",
            "The 55 Multiple of 2 is 110\n",
            "The 56 Multiple of 2 is 112\n",
            "The 57 Multiple of 2 is 114\n",
            "The 58 Multiple of 2 is 116\n",
            "The 59 Multiple of 2 is 118\n",
            "The 60 Multiple of 2 is 120\n",
            "The 61 Multiple of 2 is 122\n",
            "The 62 Multiple of 2 is 124\n",
            "The 63 Multiple of 2 is 126\n",
            "The 64 Multiple of 2 is 128\n",
            "The 65 Multiple of 2 is 130\n",
            "The 66 Multiple of 2 is 132\n",
            "The 67 Multiple of 2 is 134\n",
            "The 68 Multiple of 2 is 136\n",
            "The 69 Multiple of 2 is 138\n",
            "The 70 Multiple of 2 is 140\n",
            "The 71 Multiple of 2 is 142\n",
            "The 72 Multiple of 2 is 144\n",
            "The 73 Multiple of 2 is 146\n",
            "The 74 Multiple of 2 is 148\n",
            "The 75 Multiple of 2 is 150\n",
            "The 76 Multiple of 2 is 152\n",
            "The 77 Multiple of 2 is 154\n",
            "The 78 Multiple of 2 is 156\n",
            "The 79 Multiple of 2 is 158\n",
            "The 80 Multiple of 2 is 160\n",
            "The 81 Multiple of 2 is 162\n",
            "The 82 Multiple of 2 is 164\n",
            "The 83 Multiple of 2 is 166\n",
            "The 84 Multiple of 2 is 168\n",
            "The 85 Multiple of 2 is 170\n",
            "The 86 Multiple of 2 is 172\n",
            "The 87 Multiple of 2 is 174\n",
            "The 88 Multiple of 2 is 176\n",
            "The 89 Multiple of 2 is 178\n",
            "The 90 Multiple of 2 is 180\n",
            "The 91 Multiple of 2 is 182\n",
            "The 92 Multiple of 2 is 184\n",
            "The 93 Multiple of 2 is 186\n",
            "The 94 Multiple of 2 is 188\n",
            "The 95 Multiple of 2 is 190\n",
            "The 96 Multiple of 2 is 192\n",
            "The 97 Multiple of 2 is 194\n",
            "The 98 Multiple of 2 is 196\n",
            "The 99 Multiple of 2 is 198\n",
            "The 100 Multiple of 2 is 200\n"
          ]
        }
      ]
    },
    {
      "cell_type": "code",
      "source": [
        "print('This is the list of the 100th Multiples of 2')\n",
        "for i in range(1,100): print('Position:',i,'Multiple:',2*i)"
      ],
      "metadata": {
        "colab": {
          "base_uri": "https://localhost:8080/"
        },
        "id": "Uabnb29jM42_",
        "outputId": "25b36e58-4dae-4d27-8c90-998253daa8c0"
      },
      "execution_count": 3,
      "outputs": [
        {
          "output_type": "stream",
          "name": "stdout",
          "text": [
            "This is the list of the 100th Multiples of 2\n",
            "Position: 1 Multiple: 2\n",
            "Position: 2 Multiple: 4\n",
            "Position: 3 Multiple: 6\n",
            "Position: 4 Multiple: 8\n",
            "Position: 5 Multiple: 10\n",
            "Position: 6 Multiple: 12\n",
            "Position: 7 Multiple: 14\n",
            "Position: 8 Multiple: 16\n",
            "Position: 9 Multiple: 18\n",
            "Position: 10 Multiple: 20\n",
            "Position: 11 Multiple: 22\n",
            "Position: 12 Multiple: 24\n",
            "Position: 13 Multiple: 26\n",
            "Position: 14 Multiple: 28\n",
            "Position: 15 Multiple: 30\n",
            "Position: 16 Multiple: 32\n",
            "Position: 17 Multiple: 34\n",
            "Position: 18 Multiple: 36\n",
            "Position: 19 Multiple: 38\n",
            "Position: 20 Multiple: 40\n",
            "Position: 21 Multiple: 42\n",
            "Position: 22 Multiple: 44\n",
            "Position: 23 Multiple: 46\n",
            "Position: 24 Multiple: 48\n",
            "Position: 25 Multiple: 50\n",
            "Position: 26 Multiple: 52\n",
            "Position: 27 Multiple: 54\n",
            "Position: 28 Multiple: 56\n",
            "Position: 29 Multiple: 58\n",
            "Position: 30 Multiple: 60\n",
            "Position: 31 Multiple: 62\n",
            "Position: 32 Multiple: 64\n",
            "Position: 33 Multiple: 66\n",
            "Position: 34 Multiple: 68\n",
            "Position: 35 Multiple: 70\n",
            "Position: 36 Multiple: 72\n",
            "Position: 37 Multiple: 74\n",
            "Position: 38 Multiple: 76\n",
            "Position: 39 Multiple: 78\n",
            "Position: 40 Multiple: 80\n",
            "Position: 41 Multiple: 82\n",
            "Position: 42 Multiple: 84\n",
            "Position: 43 Multiple: 86\n",
            "Position: 44 Multiple: 88\n",
            "Position: 45 Multiple: 90\n",
            "Position: 46 Multiple: 92\n",
            "Position: 47 Multiple: 94\n",
            "Position: 48 Multiple: 96\n",
            "Position: 49 Multiple: 98\n",
            "Position: 50 Multiple: 100\n",
            "Position: 51 Multiple: 102\n",
            "Position: 52 Multiple: 104\n",
            "Position: 53 Multiple: 106\n",
            "Position: 54 Multiple: 108\n",
            "Position: 55 Multiple: 110\n",
            "Position: 56 Multiple: 112\n",
            "Position: 57 Multiple: 114\n",
            "Position: 58 Multiple: 116\n",
            "Position: 59 Multiple: 118\n",
            "Position: 60 Multiple: 120\n",
            "Position: 61 Multiple: 122\n",
            "Position: 62 Multiple: 124\n",
            "Position: 63 Multiple: 126\n",
            "Position: 64 Multiple: 128\n",
            "Position: 65 Multiple: 130\n",
            "Position: 66 Multiple: 132\n",
            "Position: 67 Multiple: 134\n",
            "Position: 68 Multiple: 136\n",
            "Position: 69 Multiple: 138\n",
            "Position: 70 Multiple: 140\n",
            "Position: 71 Multiple: 142\n",
            "Position: 72 Multiple: 144\n",
            "Position: 73 Multiple: 146\n",
            "Position: 74 Multiple: 148\n",
            "Position: 75 Multiple: 150\n",
            "Position: 76 Multiple: 152\n",
            "Position: 77 Multiple: 154\n",
            "Position: 78 Multiple: 156\n",
            "Position: 79 Multiple: 158\n",
            "Position: 80 Multiple: 160\n",
            "Position: 81 Multiple: 162\n",
            "Position: 82 Multiple: 164\n",
            "Position: 83 Multiple: 166\n",
            "Position: 84 Multiple: 168\n",
            "Position: 85 Multiple: 170\n",
            "Position: 86 Multiple: 172\n",
            "Position: 87 Multiple: 174\n",
            "Position: 88 Multiple: 176\n",
            "Position: 89 Multiple: 178\n",
            "Position: 90 Multiple: 180\n",
            "Position: 91 Multiple: 182\n",
            "Position: 92 Multiple: 184\n",
            "Position: 93 Multiple: 186\n",
            "Position: 94 Multiple: 188\n",
            "Position: 95 Multiple: 190\n",
            "Position: 96 Multiple: 192\n",
            "Position: 97 Multiple: 194\n",
            "Position: 98 Multiple: 196\n",
            "Position: 99 Multiple: 198\n"
          ]
        }
      ]
    },
    {
      "cell_type": "markdown",
      "source": [
        "### Absolute Value "
      ],
      "metadata": {
        "id": "FyNNHgKZN4Pv"
      }
    },
    {
      "cell_type": "code",
      "source": [
        "# Example \n",
        "abs(-25)"
      ],
      "metadata": {
        "colab": {
          "base_uri": "https://localhost:8080/"
        },
        "id": "LNXzBfrSN-AA",
        "outputId": "3351bd2c-d2f5-493b-d71b-677f2dc6d820"
      },
      "execution_count": 4,
      "outputs": [
        {
          "output_type": "execute_result",
          "data": {
            "text/plain": [
              "25"
            ]
          },
          "metadata": {},
          "execution_count": 4
        }
      ]
    },
    {
      "cell_type": "markdown",
      "source": [
        ""
      ],
      "metadata": {
        "id": "IaQvClfDO7Ks"
      }
    }
  ]
}