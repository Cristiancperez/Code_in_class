{
  "nbformat": 4,
  "nbformat_minor": 0,
  "metadata": {
    "colab": {
      "provenance": [],
      "collapsed_sections": [],
      "include_colab_link": true
    },
    "kernelspec": {
      "name": "python3",
      "display_name": "Python 3"
    },
    "language_info": {
      "name": "python"
    }
  },
  "cells": [
    {
      "cell_type": "markdown",
      "metadata": {
        "id": "view-in-github",
        "colab_type": "text"
      },
      "source": [
        "<a href=\"https://colab.research.google.com/github/Cristiancperez/Code_in_class/blob/main/DV_Game_Roulette.ipynb\" target=\"_parent\"><img src=\"https://colab.research.google.com/assets/colab-badge.svg\" alt=\"Open In Colab\"/></a>"
      ]
    },
    {
      "cell_type": "markdown",
      "source": [
        "## Exercise 1\n",
        "\n",
        "**Roulette!**\n",
        "\n",
        "Let's simulate a casino game.\n",
        "Specifically, a single-zero (french) roulette.\n",
        "\n",
        "This game consists on rolling a ball over a wheel with number pockets.\n",
        "\n",
        "[Game](https://image.shutterstock.com/image-illustration/casino-roulette-wheel-chips-on-600w-1288790665.jpg)\n",
        "\n",
        "To keep it simple, you can bet on a number and bet on a color.\n",
        "\n",
        "Create the corresponding code to simulate a round. You must show what was your bet (number and color) and the actual result.\n",
        "\n",
        "*Tip*\n",
        "\n",
        "To determine if a number (in `int` format) is even or odd, you can use:"
      ],
      "metadata": {
        "id": "Wy5nGo0misag"
      }
    },
    {
      "cell_type": "code",
      "execution_count": null,
      "metadata": {
        "id": "BSn8IT5VilEv",
        "colab": {
          "base_uri": "https://localhost:8080/",
          "height": 35
        },
        "outputId": "8d6f8819-65b7-43f9-e72e-2ba244ef1475"
      },
      "outputs": [
        {
          "output_type": "execute_result",
          "data": {
            "text/plain": [
              "'Even'"
            ],
            "application/vnd.google.colaboratory.intrinsic+json": {
              "type": "string"
            }
          },
          "metadata": {},
          "execution_count": 3
        }
      ],
      "source": [
        "number = 24 # example\n",
        "\n",
        "'Even' if (number % 2) == 0 else 'Odd'"
      ]
    },
    {
      "cell_type": "code",
      "source": [
        "import numpy as np"
      ],
      "metadata": {
        "id": "v3SR33hdi5st"
      },
      "execution_count": 1,
      "outputs": []
    },
    {
      "cell_type": "markdown",
      "source": [
        "# One part of the solution - Number\n",
        "\n",
        "Simulating only the draw of a number"
      ],
      "metadata": {
        "id": "1tGUZJG6i8g1"
      }
    },
    {
      "cell_type": "code",
      "source": [
        "number = np.random.randint(low = 0, high = 37)\n",
        "\n",
        "apuesta = 34\n",
        "print('Resultado:', number)\n",
        "print('Mi apuesta:', apuesta)\n",
        "\n",
        "if number == apuesta: \n",
        "  print('You win')\n",
        "else: \n",
        "  print('You lose')\n",
        "\n"
      ],
      "metadata": {
        "colab": {
          "base_uri": "https://localhost:8080/"
        },
        "id": "WGRhMclGi7s8",
        "outputId": "4b689fe8-d519-4ca6-d3a5-90b68bac8c76"
      },
      "execution_count": null,
      "outputs": [
        {
          "output_type": "stream",
          "name": "stdout",
          "text": [
            "Resultado: 21\n",
            "Mi apuesta: 34\n",
            "You lose\n"
          ]
        }
      ]
    },
    {
      "cell_type": "markdown",
      "source": [
        "Simplifying the `if` expression."
      ],
      "metadata": {
        "id": "Oz45YyI_QbmP"
      }
    },
    {
      "cell_type": "code",
      "source": [
        "result_number = np.random.randint(low = 0, high = 37)\n",
        "my_bet = 34\n",
        "\n",
        "print('The number drawn was:', result_number)\n",
        "print('My bet:', my_bet)\n",
        "\n",
        "'You win' if (result_number == my_bet) else 'You lose'"
      ],
      "metadata": {
        "colab": {
          "base_uri": "https://localhost:8080/",
          "height": 70
        },
        "id": "S7RwG-vmk6NX",
        "outputId": "163e533c-ffcc-4cf0-87f9-bc87a626796d"
      },
      "execution_count": null,
      "outputs": [
        {
          "output_type": "stream",
          "name": "stdout",
          "text": [
            "The number drawn was: 36\n",
            "My bet: 34\n"
          ]
        },
        {
          "output_type": "execute_result",
          "data": {
            "text/plain": [
              "'You lose'"
            ],
            "application/vnd.google.colaboratory.intrinsic+json": {
              "type": "string"
            }
          },
          "metadata": {},
          "execution_count": 6
        }
      ]
    },
    {
      "cell_type": "markdown",
      "source": [
        "# One part of the solution - Color\n",
        "\n",
        "Simulating that every **even** is black and every **odd** is red."
      ],
      "metadata": {
        "id": "VDHtyJtvQmda"
      }
    },
    {
      "cell_type": "code",
      "source": [
        "result_number = np.random.randint (low = 1, high = 37)\n",
        "'Black' if (result_number % 2) == 0 else 'Red'\n",
        "\n"
      ],
      "metadata": {
        "colab": {
          "base_uri": "https://localhost:8080/",
          "height": 35
        },
        "id": "QsjdpUU2qBIr",
        "outputId": "791ed76a-2bc4-44b4-f88a-50cba98a6f16"
      },
      "execution_count": null,
      "outputs": [
        {
          "output_type": "execute_result",
          "data": {
            "text/plain": [
              "'Red'"
            ],
            "application/vnd.google.colaboratory.intrinsic+json": {
              "type": "string"
            }
          },
          "metadata": {},
          "execution_count": 7
        }
      ]
    },
    {
      "cell_type": "markdown",
      "source": [
        "# Solution 1 - Hard coding\n",
        "\n",
        "Because the result set is fixed, never change, and is small we can *hard code* it. It makes a lot of thing easier.\n",
        "\n",
        "Meaning you have to invest time in building the set but once it is done the rest is easy. Mainly because you only have to build it once.\n",
        "\n",
        "(26 lines of code)."
      ],
      "metadata": {
        "id": "xId0cNHPRm0R"
      }
    },
    {
      "cell_type": "code",
      "source": [
        "#########\n",
        "# BOARD #\n",
        "#########\n",
        "\n",
        "black = np.array([2,4,6,8,10,11,13,15,17,20,22,24,26,28,29,31,33,35])\n",
        "red   = np.array([1,3,5,7,9,12,14,16,18,19,21,23,25,27,30,32,34,36])\n",
        "\n",
        "# The bet\n",
        "## Must be 'black', 'red' or ''\n",
        "color_bet  = 'red'  \n",
        "## Must be an integer from 0 to 36\n",
        "number_bet = 17\n",
        "\n",
        "# The draw\n",
        "## Generating the random number\n",
        "number = np.random.randint(low = 0, high = 37)\n",
        "\n",
        "## Checking the color\n",
        "if number == 0:\n",
        "  color = 'neutral'\n",
        "elif number in black:\n",
        "  color = 'black'\n",
        "else:\n",
        "  color = 'red'\n",
        "\n",
        "# The results\n",
        "  \n",
        "print('Roulette result:', 'Number', number, 'and', color,'.')\n",
        "print('Your bet:','Number', number_bet, 'and color', color_bet, '.')\n",
        "if (number_bet == number): \n",
        "  print('You win with number!') \n",
        "else: \n",
        "  print('You lose with number!') \n",
        "if color_bet == 'none':\n",
        "  print('No bet was made.')\n",
        "else:\n",
        "  print('You win with color!' if (color_bet == color) else 'You lose with color!')\n",
        "  \n",
        "  \n",
        "  \n",
        "\n",
        "\n",
        "\n"
      ],
      "metadata": {
        "id": "HW8jkj1JR_UH",
        "colab": {
          "base_uri": "https://localhost:8080/"
        },
        "outputId": "554055db-6913-498d-82d4-f0f1d11755db"
      },
      "execution_count": 14,
      "outputs": [
        {
          "output_type": "stream",
          "name": "stdout",
          "text": [
            "Roulette result: Number 0 and neutral .\n",
            "Your bet: Number 17 and color red .\n",
            "You lose with number!\n",
            "You lose with color!\n"
          ]
        }
      ]
    }
  ]
}