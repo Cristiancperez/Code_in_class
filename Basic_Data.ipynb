{
  "nbformat": 4,
  "nbformat_minor": 0,
  "metadata": {
    "colab": {
      "name": "Basic_Data.ipynb",
      "provenance": [],
      "toc_visible": true,
      "authorship_tag": "ABX9TyPvwYnOFHh7nB7/1H0iRENC",
      "include_colab_link": true
    },
    "kernelspec": {
      "name": "python3",
      "display_name": "Python 3"
    },
    "language_info": {
      "name": "python"
    }
  },
  "cells": [
    {
      "cell_type": "markdown",
      "metadata": {
        "id": "view-in-github",
        "colab_type": "text"
      },
      "source": [
        "<a href=\"https://colab.research.google.com/github/Cristiancperez/Code_in_class/blob/main/Basic_Data.ipynb\" target=\"_parent\"><img src=\"https://colab.research.google.com/assets/colab-badge.svg\" alt=\"Open In Colab\"/></a>"
      ]
    },
    {
      "cell_type": "markdown",
      "source": [
        "# Heading level 1\n"
      ],
      "metadata": {
        "id": "xsl10-0NVLxl"
      }
    },
    {
      "cell_type": "markdown",
      "source": [
        "## Heading level 2"
      ],
      "metadata": {
        "id": "cFbRiQzKXT-y"
      }
    },
    {
      "cell_type": "markdown",
      "source": [
        "asdhasdh.afjasjd.asjdasjdas \n"
      ],
      "metadata": {
        "id": "dnsw7lbmXaEn"
      }
    },
    {
      "cell_type": "markdown",
      "source": [
        "# Text Formating\n",
        "\n",
        "\n"
      ],
      "metadata": {
        "id": "_P3LTv5MG_QB"
      }
    },
    {
      "cell_type": "markdown",
      "source": [
        "## Bold\n",
        "\n",
        "**car**\n",
        "\n",
        "**my car is green and is old**"
      ],
      "metadata": {
        "id": "75wBA0d8IBxk"
      }
    },
    {
      "cell_type": "markdown",
      "source": [
        "## Italics\n",
        "\n",
        "*car*\n",
        "\n",
        "*my car is green and is old*"
      ],
      "metadata": {
        "id": "37Wgxri7IEoE"
      }
    },
    {
      "cell_type": "markdown",
      "source": [
        "## Combine Bold and Italic\n",
        "\n",
        "***This text has bold and Italic format***"
      ],
      "metadata": {
        "id": "i7qvO4oLIbqM"
      }
    },
    {
      "cell_type": "markdown",
      "source": [
        "## Underline\n",
        "\n",
        "WE DON´T, beacause underline is reserved for links."
      ],
      "metadata": {
        "id": "I9pMqOq-I-Dk"
      }
    },
    {
      "cell_type": "markdown",
      "source": [
        "# List"
      ],
      "metadata": {
        "id": "P50UtlYlKB0Z"
      }
    },
    {
      "cell_type": "markdown",
      "source": [
        "## Unordered List\n",
        "\n",
        "**Grocery List:**\n",
        "\n",
        "* Rice \n",
        "* Eggs\n",
        "* Bread\n",
        "* Coffe\n"
      ],
      "metadata": {
        "id": "Ff9NlY6oKE12"
      }
    },
    {
      "cell_type": "markdown",
      "source": [
        "## Orderd List\n",
        "\n",
        "**Table Contents**\n",
        "\n",
        "1. Introduction\n",
        "2. Refreence frame\n",
        "\n"
      ],
      "metadata": {
        "id": "CmqxaV18LYPd"
      }
    },
    {
      "cell_type": "markdown",
      "source": [
        "## Nested List\n",
        "\n",
        "A nested list is a list thet has another list inside it\n",
        "\n",
        "**Example:**\n",
        "1. A\n",
        "\n",
        "    1.1 a\n",
        "\n",
        "    1.2 b\n",
        "\n",
        "2. B \n",
        "\n",
        "    * b"
      ],
      "metadata": {
        "id": "wYQCTAm7MIYV"
      }
    },
    {
      "cell_type": "markdown",
      "source": [
        "# Inserts\n",
        "\n"
      ],
      "metadata": {
        "id": "NJQjUKI6NaIL"
      }
    },
    {
      "cell_type": "markdown",
      "source": [
        "## Links\n",
        "\n",
        "Use this when you want to connect to external sources.\n",
        "\n",
        "https://www.lasalle.edu.co/\n",
        "\n",
        "[La Salle](https://www.lasalle.edu.co/)\n"
      ],
      "metadata": {
        "id": "bm5VFrsgP0kC"
      }
    },
    {
      "cell_type": "markdown",
      "source": [
        "## Image\n",
        "\n",
        "![aaaaa.png](data:image/png;base64,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)\n"
      ],
      "metadata": {
        "id": "ZpUct7bFP3O-"
      }
    },
    {
      "cell_type": "markdown",
      "source": [
        "# **Tables**\n",
        "\n",
        "| a | b | c | \n",
        "|---|---|---|\n",
        "| 1 | 2 | 3 |\n",
        "| w | e | r |\n",
        "| q | r | t | \n",
        "| 1 | 3 | 4 |\n",
        "\n"
      ],
      "metadata": {
        "id": "fTbOlTKuGHAM"
      }
    },
    {
      "cell_type": "markdown",
      "source": [
        "# **Equations**\n",
        "\n"
      ],
      "metadata": {
        "id": "mRz2FJH3H4Um"
      }
    },
    {
      "cell_type": "markdown",
      "source": [
        "## Inline equations\n",
        "\n",
        "This is the Pytagoras Theorem $c^2=a^2+b^2$ for example \n",
        "\n",
        "LaTex\n",
        "$x_{1}+x_{2}$"
      ],
      "metadata": {
        "id": "q3PepiVmIloT"
      }
    }
  ]
}