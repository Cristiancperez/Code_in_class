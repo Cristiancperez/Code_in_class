{
  "nbformat": 4,
  "nbformat_minor": 0,
  "metadata": {
    "colab": {
      "name": "My_proyect.ipynb",
      "provenance": [],
      "toc_visible": true,
      "authorship_tag": "ABX9TyMIeIx7c5oluSP825As25jn",
      "include_colab_link": true
    },
    "kernelspec": {
      "name": "python3",
      "display_name": "Python 3"
    },
    "language_info": {
      "name": "python"
    }
  },
  "cells": [
    {
      "cell_type": "markdown",
      "metadata": {
        "id": "view-in-github",
        "colab_type": "text"
      },
      "source": [
        "<a href=\"https://colab.research.google.com/github/Cristiancperez/Code_in_class/blob/main/My_proyect.ipynb\" target=\"_parent\"><img src=\"https://colab.research.google.com/assets/colab-badge.svg\" alt=\"Open In Colab\"/></a>"
      ]
    },
    {
      "cell_type": "markdown",
      "source": [
        "# Heading level 1\n"
      ],
      "metadata": {
        "id": "xsl10-0NVLxl"
      }
    },
    {
      "cell_type": "markdown",
      "source": [
        "## Heading level 2"
      ],
      "metadata": {
        "id": "cFbRiQzKXT-y"
      }
    },
    {
      "cell_type": "markdown",
      "source": [
        "asdhasdh.afjasjd.asjdasjdas \n"
      ],
      "metadata": {
        "id": "dnsw7lbmXaEn"
      }
    }
  ]
}