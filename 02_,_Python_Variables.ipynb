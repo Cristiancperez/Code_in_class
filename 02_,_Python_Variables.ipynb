{
  "nbformat": 4,
  "nbformat_minor": 0,
  "metadata": {
    "colab": {
      "name": "02 -,-Python Variables.ipynb",
      "provenance": [],
      "authorship_tag": "ABX9TyNIZFonDS8DyQAEkMsoYRfd",
      "include_colab_link": true
    },
    "kernelspec": {
      "name": "python3",
      "display_name": "Python 3"
    },
    "language_info": {
      "name": "python"
    }
  },
  "cells": [
    {
      "cell_type": "markdown",
      "metadata": {
        "id": "view-in-github",
        "colab_type": "text"
      },
      "source": [
        "<a href=\"https://colab.research.google.com/github/Cristiancperez/Code_in_class/blob/main/02_%2C_Python_Variables.ipynb\" target=\"_parent\"><img src=\"https://colab.research.google.com/assets/colab-badge.svg\" alt=\"Open In Colab\"/></a>"
      ]
    },
    {
      "cell_type": "markdown",
      "source": [
        "#1. What is a Variable?\n",
        "\n",
        "*Container*, **stores** values "
      ],
      "metadata": {
        "id": "0tW-oM23O01w"
      }
    },
    {
      "cell_type": "markdown",
      "source": [
        "# 2. Declaration and Assigment\n",
        "\n"
      ],
      "metadata": {
        "id": "smD7pcyiPRUL"
      }
    },
    {
      "cell_type": "code",
      "source": [
        "# Example\n",
        "\n",
        "a = 4\n"
      ],
      "metadata": {
        "id": "XsuUlSSzPPtR"
      },
      "execution_count": null,
      "outputs": []
    },
    {
      "cell_type": "code",
      "source": [
        "# Example using variable\n",
        "print(a + 1)"
      ],
      "metadata": {
        "colab": {
          "base_uri": "https://localhost:8080/"
        },
        "id": "uCgwqWSSQZ5U",
        "outputId": "61cf9da8-8ded-4925-f579-df17c1f78950"
      },
      "execution_count": null,
      "outputs": [
        {
          "output_type": "stream",
          "name": "stdout",
          "text": [
            "5\n"
          ]
        }
      ]
    },
    {
      "cell_type": "code",
      "source": [
        "# Example\n",
        "x = y = z = 100\n",
        "print(x,y,z)"
      ],
      "metadata": {
        "colab": {
          "base_uri": "https://localhost:8080/"
        },
        "id": "3fpzFWL_Q1s1",
        "outputId": "df20d334-e325-4c6f-cfa8-f54cdb4b54ec"
      },
      "execution_count": null,
      "outputs": [
        {
          "output_type": "stream",
          "name": "stdout",
          "text": [
            "100 100 100\n"
          ]
        }
      ]
    },
    {
      "cell_type": "markdown",
      "source": [
        "# 3. Delete and clear"
      ],
      "metadata": {
        "id": "O2_1clPERWN1"
      }
    },
    {
      "cell_type": "code",
      "source": [
        "# Example - deleting a single variable\n",
        "age = 21\n",
        "del age"
      ],
      "metadata": {
        "id": "Uoklkx05R0FO"
      },
      "execution_count": null,
      "outputs": []
    },
    {
      "cell_type": "code",
      "source": [
        "# Example - deleting a list of variables\n",
        "del a,at"
      ],
      "metadata": {
        "id": "25kCl_pFSNkH"
      },
      "execution_count": null,
      "outputs": []
    },
    {
      "cell_type": "code",
      "source": [
        "# Example - erase of clear all variables\n",
        "%reset"
      ],
      "metadata": {
        "colab": {
          "base_uri": "https://localhost:8080/"
        },
        "id": "n713c8xYSmyX",
        "outputId": "9113b50d-5e67-4440-a320-81b9825b0d24"
      },
      "execution_count": null,
      "outputs": [
        {
          "name": "stdout",
          "output_type": "stream",
          "text": [
            "Once deleted, variables cannot be recovered. Proceed (y/[n])? y\n"
          ]
        }
      ]
    },
    {
      "cell_type": "code",
      "source": [
        "a = 7.2345"
      ],
      "metadata": {
        "id": "cQMU_ZweTM8p"
      },
      "execution_count": null,
      "outputs": []
    },
    {
      "cell_type": "code",
      "source": [
        "for i in range(0,4): print('Round with', i, 'decimals;', round(a,i))"
      ],
      "metadata": {
        "colab": {
          "base_uri": "https://localhost:8080/"
        },
        "id": "5JGxrn4LTT7g",
        "outputId": "e1dbc3f0-ebc4-4d01-85cc-32d8a365c395"
      },
      "execution_count": null,
      "outputs": [
        {
          "output_type": "stream",
          "name": "stdout",
          "text": [
            "Round with 0 decimals; 7.0\n",
            "Round with 1 decimals; 7.2\n",
            "Round with 2 decimals; 7.23\n",
            "Round with 3 decimals; 7.234\n"
          ]
        }
      ]
    },
    {
      "cell_type": "code",
      "source": [
        "b = 2\n",
        "print('This is the list of the 100th Multiples of', b,':')\n",
        "for i in range(1,101): print('Position:',i,'Multiple:', b*i)"
      ],
      "metadata": {
        "colab": {
          "base_uri": "https://localhost:8080/"
        },
        "id": "221FNvllUOri",
        "outputId": "99ca86ae-bbf3-410e-ed54-04ef1a2ffb89"
      },
      "execution_count": null,
      "outputs": [
        {
          "output_type": "stream",
          "name": "stdout",
          "text": [
            "This is the list of the 100th Multiples of 2 :\n",
            "Position: 1 Multiple: 2\n",
            "Position: 2 Multiple: 4\n",
            "Position: 3 Multiple: 6\n",
            "Position: 4 Multiple: 8\n",
            "Position: 5 Multiple: 10\n",
            "Position: 6 Multiple: 12\n",
            "Position: 7 Multiple: 14\n",
            "Position: 8 Multiple: 16\n",
            "Position: 9 Multiple: 18\n",
            "Position: 10 Multiple: 20\n",
            "Position: 11 Multiple: 22\n",
            "Position: 12 Multiple: 24\n",
            "Position: 13 Multiple: 26\n",
            "Position: 14 Multiple: 28\n",
            "Position: 15 Multiple: 30\n",
            "Position: 16 Multiple: 32\n",
            "Position: 17 Multiple: 34\n",
            "Position: 18 Multiple: 36\n",
            "Position: 19 Multiple: 38\n",
            "Position: 20 Multiple: 40\n",
            "Position: 21 Multiple: 42\n",
            "Position: 22 Multiple: 44\n",
            "Position: 23 Multiple: 46\n",
            "Position: 24 Multiple: 48\n",
            "Position: 25 Multiple: 50\n",
            "Position: 26 Multiple: 52\n",
            "Position: 27 Multiple: 54\n",
            "Position: 28 Multiple: 56\n",
            "Position: 29 Multiple: 58\n",
            "Position: 30 Multiple: 60\n",
            "Position: 31 Multiple: 62\n",
            "Position: 32 Multiple: 64\n",
            "Position: 33 Multiple: 66\n",
            "Position: 34 Multiple: 68\n",
            "Position: 35 Multiple: 70\n",
            "Position: 36 Multiple: 72\n",
            "Position: 37 Multiple: 74\n",
            "Position: 38 Multiple: 76\n",
            "Position: 39 Multiple: 78\n",
            "Position: 40 Multiple: 80\n",
            "Position: 41 Multiple: 82\n",
            "Position: 42 Multiple: 84\n",
            "Position: 43 Multiple: 86\n",
            "Position: 44 Multiple: 88\n",
            "Position: 45 Multiple: 90\n",
            "Position: 46 Multiple: 92\n",
            "Position: 47 Multiple: 94\n",
            "Position: 48 Multiple: 96\n",
            "Position: 49 Multiple: 98\n",
            "Position: 50 Multiple: 100\n",
            "Position: 51 Multiple: 102\n",
            "Position: 52 Multiple: 104\n",
            "Position: 53 Multiple: 106\n",
            "Position: 54 Multiple: 108\n",
            "Position: 55 Multiple: 110\n",
            "Position: 56 Multiple: 112\n",
            "Position: 57 Multiple: 114\n",
            "Position: 58 Multiple: 116\n",
            "Position: 59 Multiple: 118\n",
            "Position: 60 Multiple: 120\n",
            "Position: 61 Multiple: 122\n",
            "Position: 62 Multiple: 124\n",
            "Position: 63 Multiple: 126\n",
            "Position: 64 Multiple: 128\n",
            "Position: 65 Multiple: 130\n",
            "Position: 66 Multiple: 132\n",
            "Position: 67 Multiple: 134\n",
            "Position: 68 Multiple: 136\n",
            "Position: 69 Multiple: 138\n",
            "Position: 70 Multiple: 140\n",
            "Position: 71 Multiple: 142\n",
            "Position: 72 Multiple: 144\n",
            "Position: 73 Multiple: 146\n",
            "Position: 74 Multiple: 148\n",
            "Position: 75 Multiple: 150\n",
            "Position: 76 Multiple: 152\n",
            "Position: 77 Multiple: 154\n",
            "Position: 78 Multiple: 156\n",
            "Position: 79 Multiple: 158\n",
            "Position: 80 Multiple: 160\n",
            "Position: 81 Multiple: 162\n",
            "Position: 82 Multiple: 164\n",
            "Position: 83 Multiple: 166\n",
            "Position: 84 Multiple: 168\n",
            "Position: 85 Multiple: 170\n",
            "Position: 86 Multiple: 172\n",
            "Position: 87 Multiple: 174\n",
            "Position: 88 Multiple: 176\n",
            "Position: 89 Multiple: 178\n",
            "Position: 90 Multiple: 180\n",
            "Position: 91 Multiple: 182\n",
            "Position: 92 Multiple: 184\n",
            "Position: 93 Multiple: 186\n",
            "Position: 94 Multiple: 188\n",
            "Position: 95 Multiple: 190\n",
            "Position: 96 Multiple: 192\n",
            "Position: 97 Multiple: 194\n",
            "Position: 98 Multiple: 196\n",
            "Position: 99 Multiple: 198\n",
            "Position: 100 Multiple: 200\n"
          ]
        }
      ]
    },
    {
      "cell_type": "markdown",
      "source": [
        "## 4.1 Conditions and Restrictions\n",
        "\n",
        "The names must have only alphanumeric characters\n",
        "(from `0 to 1`, `a to z`. `A to Z`) and underscore `_`\n",
        "\n",
        "**WARNING** A variable name MUST noy  begin with a number."
      ],
      "metadata": {
        "id": "QBaM8AWnKh9s"
      }
    },
    {
      "cell_type": "code",
      "source": [
        "# Example \n",
        "my_age = 100\n",
        "person1 = 'me'"
      ],
      "metadata": {
        "id": "ohDlJcvgKjhD"
      },
      "execution_count": 21,
      "outputs": []
    },
    {
      "cell_type": "markdown",
      "source": [
        "## 4.2 Best Practices\n",
        "\n",
        "* Variables are case sentitive:"
      ],
      "metadata": {
        "id": "PimSKaTGKj-K"
      }
    },
    {
      "cell_type": "code",
      "source": [
        "# Example\n",
        "\n",
        "age = 12\n",
        "Age = 13\n",
        "AGE = 14\n"
      ],
      "metadata": {
        "id": "IeP1wX89KsBa"
      },
      "execution_count": 1,
      "outputs": []
    },
    {
      "cell_type": "markdown",
      "source": [
        "The best practice in Python is to used lower case.\n",
        "\n"
      ],
      "metadata": {
        "id": "da5FnsU4LQOq"
      }
    },
    {
      "cell_type": "markdown",
      "source": [
        "\n",
        "\n",
        "*   Composite names\n",
        "\n",
        "\n"
      ],
      "metadata": {
        "id": "bM-L_qeILvEq"
      }
    },
    {
      "cell_type": "code",
      "source": [
        "# Example\n",
        "book_price = 100\n",
        "book_quant = 20"
      ],
      "metadata": {
        "id": "2Z5GPM2eLve6"
      },
      "execution_count": 2,
      "outputs": []
    },
    {
      "cell_type": "markdown",
      "source": [
        "* Use meainful names\n",
        "\n",
        "Names shuld tell you something "
      ],
      "metadata": {
        "id": "eMRy60DoMBK7"
      }
    },
    {
      "cell_type": "code",
      "source": [
        "stock_price = 25"
      ],
      "metadata": {
        "id": "VoNA-bOaMKoL"
      },
      "execution_count": 4,
      "outputs": []
    },
    {
      "cell_type": "markdown",
      "source": [
        "# 5.Data types"
      ],
      "metadata": {
        "id": "66MZZTxeMmqy"
      }
    },
    {
      "cell_type": "markdown",
      "source": [
        "## 5.1 Integers"
      ],
      "metadata": {
        "id": "KtWzfP8yMuu6"
      }
    },
    {
      "cell_type": "code",
      "source": [
        "stock_price = 25\n",
        "print(type(stock_price))"
      ],
      "metadata": {
        "colab": {
          "base_uri": "https://localhost:8080/"
        },
        "id": "HRMkTNfjMysq",
        "outputId": "92a53aca-1eb4-4388-f893-b09f28ecb5de"
      },
      "execution_count": 3,
      "outputs": [
        {
          "output_type": "stream",
          "name": "stdout",
          "text": [
            "<class 'int'>\n"
          ]
        }
      ]
    },
    {
      "cell_type": "markdown",
      "source": [
        "##5.2 Float"
      ],
      "metadata": {
        "id": "igBWmILcM9by"
      }
    },
    {
      "cell_type": "code",
      "source": [
        "stock_price = 25.45\n",
        "print(type(stock_price))"
      ],
      "metadata": {
        "colab": {
          "base_uri": "https://localhost:8080/"
        },
        "id": "ZrLfy772NADC",
        "outputId": "59eef80b-a261-4b5c-c604-f0c3464cb9a1"
      },
      "execution_count": 5,
      "outputs": [
        {
          "output_type": "stream",
          "name": "stdout",
          "text": [
            "<class 'float'>\n"
          ]
        }
      ]
    },
    {
      "cell_type": "markdown",
      "source": [
        "## Python as a Calculator"
      ],
      "metadata": {
        "id": "nGYPhuHVNJeq"
      }
    },
    {
      "cell_type": "code",
      "source": [
        "# Example \n",
        "\n",
        "x = 3\n",
        "y = 4\n",
        "z = 5\n",
        "print('x + y =', x + y)\n",
        "print('x + z =', x + z)"
      ],
      "metadata": {
        "colab": {
          "base_uri": "https://localhost:8080/"
        },
        "id": "64sA7Gx_NV1D",
        "outputId": "54617c74-e07b-4a2a-c55c-3365d99769d4"
      },
      "execution_count": 8,
      "outputs": [
        {
          "output_type": "stream",
          "name": "stdout",
          "text": [
            "x + y = 7\n",
            "x + z = 8\n"
          ]
        }
      ]
    },
    {
      "cell_type": "markdown",
      "source": [
        "Let's try a **nice trick**"
      ],
      "metadata": {
        "id": "75hBnhPjN3Oa"
      }
    },
    {
      "cell_type": "code",
      "source": [
        "# Nice Trick\n",
        "w = 0"
      ],
      "metadata": {
        "id": "QqwH4uz8N8NR"
      },
      "execution_count": 9,
      "outputs": []
    },
    {
      "cell_type": "code",
      "source": [
        "# Nice Trick\n",
        "w += 1\n",
        "print(w)"
      ],
      "metadata": {
        "colab": {
          "base_uri": "https://localhost:8080/"
        },
        "id": "dgL98nIXOHGu",
        "outputId": "8daa8dd8-9656-4b4d-e7df-07263b57c7a5"
      },
      "execution_count": 17,
      "outputs": [
        {
          "output_type": "stream",
          "name": "stdout",
          "text": [
            "3\n"
          ]
        }
      ]
    },
    {
      "cell_type": "markdown",
      "source": [
        "## 5.3. Booleans\n",
        "\n",
        "These are variables with values of `True`or `False`."
      ],
      "metadata": {
        "id": "zaeBrDfhPEKw"
      }
    },
    {
      "cell_type": "code",
      "source": [
        "# Example\n",
        "\n",
        "is_sunny = True\n",
        "print(type(is_sunny))"
      ],
      "metadata": {
        "colab": {
          "base_uri": "https://localhost:8080/"
        },
        "id": "HYkHiv42PUf3",
        "outputId": "d98f3336-306b-485b-f0ad-27bafcb8e19e"
      },
      "execution_count": 18,
      "outputs": [
        {
          "output_type": "stream",
          "name": "stdout",
          "text": [
            "<class 'bool'>\n"
          ]
        }
      ]
    },
    {
      "cell_type": "markdown",
      "source": [
        "More important are **BOOLEAN EXPRESSIONS**."
      ],
      "metadata": {
        "id": "djDzY0RfP-RV"
      }
    },
    {
      "cell_type": "code",
      "source": [
        "# Example \n",
        "\n",
        "x = 2\n",
        "y = 3\n",
        "\n",
        "print('is x equals to Y?', x == y)\n",
        "print('is x NOT equals to Y?', x != y)\n",
        "print('is x greater then Y?', x > y)\n",
        "print('is x less than Y?', x < y)"
      ],
      "metadata": {
        "colab": {
          "base_uri": "https://localhost:8080/"
        },
        "id": "LGxJomMcQEED",
        "outputId": "5cbd4b25-0cc5-4798-8f88-6bd8be9682f4"
      },
      "execution_count": 20,
      "outputs": [
        {
          "output_type": "stream",
          "name": "stdout",
          "text": [
            "is x equals to Y? False\n",
            "is x NOT equals to Y? True\n",
            "is x greater then Y? False\n",
            "is x less than Y? True\n"
          ]
        }
      ]
    },
    {
      "cell_type": "code",
      "source": [
        "# Practice - hard mode!!!\n",
        "\n",
        "# Using loops, you are going to evalaute the b_e\n",
        "# x+y > x*y\n",
        "# For x = 1,2,3,...,10\n",
        "#     y = 11,12,13,...,20\n",
        "x = 1\n",
        "y = 12\n",
        "\n"
      ],
      "metadata": {
        "id": "VfhvennURZ57"
      },
      "execution_count": 54,
      "outputs": []
    },
    {
      "cell_type": "code",
      "source": [
        "x + y"
      ],
      "metadata": {
        "colab": {
          "base_uri": "https://localhost:8080/"
        },
        "id": "GutRJYzBTTdb",
        "outputId": "05f31360-a0df-43eb-fe1f-6707bda4c48c"
      },
      "execution_count": 55,
      "outputs": [
        {
          "output_type": "execute_result",
          "data": {
            "text/plain": [
              "13"
            ]
          },
          "metadata": {},
          "execution_count": 55
        }
      ]
    },
    {
      "cell_type": "code",
      "source": [
        "x * y"
      ],
      "metadata": {
        "colab": {
          "base_uri": "https://localhost:8080/"
        },
        "id": "VjzdqBe8TXAE",
        "outputId": "e99c7c96-fe36-42e1-a15c-1f540719c432"
      },
      "execution_count": 56,
      "outputs": [
        {
          "output_type": "execute_result",
          "data": {
            "text/plain": [
              "12"
            ]
          },
          "metadata": {},
          "execution_count": 56
        }
      ]
    },
    {
      "cell_type": "code",
      "source": [
        "print('Is x+y equals to x*y?', x + y == x*y)\n",
        "print('Is x+y NOT equals to x*y?', x + y != x*y)\n",
        "print('Is x+y graater than x*y?', x + y > x*y)\n",
        "print('Is x+y less than x*y?', x + y == x*y)\n",
        "\n",
        "\n"
      ],
      "metadata": {
        "colab": {
          "base_uri": "https://localhost:8080/"
        },
        "id": "uQln8xZbTZuj",
        "outputId": "115f916b-bd5c-40c6-f991-70aa9547d9d1"
      },
      "execution_count": 60,
      "outputs": [
        {
          "output_type": "stream",
          "name": "stdout",
          "text": [
            "Is x+y equals to x*y? False\n",
            "Is x+y NOT equals to x*y? True\n",
            "Is x+y graater than x*y? True\n",
            "Is x+y less than x*y? False\n"
          ]
        }
      ]
    },
    {
      "cell_type": "code",
      "source": [
        "# A Solution\n",
        "\n",
        "print('Is x + y > x * y?')\n",
        "for x in range(1,11):\n",
        "  for y in range(12,21):\n",
        "    print('Is ',x,'+',y,'>',x,'*',y,'?', x + y > x * y)\n"
      ],
      "metadata": {
        "colab": {
          "base_uri": "https://localhost:8080/"
        },
        "id": "tJaYUGm-VKYx",
        "outputId": "90147f67-7e41-4004-9b1a-43130a827f1a"
      },
      "execution_count": 62,
      "outputs": [
        {
          "output_type": "stream",
          "name": "stdout",
          "text": [
            "Is x + y > x * y?\n",
            "Is  1 + 12 > 1 * 12 ? True\n",
            "Is  1 + 13 > 1 * 13 ? True\n",
            "Is  1 + 14 > 1 * 14 ? True\n",
            "Is  1 + 15 > 1 * 15 ? True\n",
            "Is  1 + 16 > 1 * 16 ? True\n",
            "Is  1 + 17 > 1 * 17 ? True\n",
            "Is  1 + 18 > 1 * 18 ? True\n",
            "Is  1 + 19 > 1 * 19 ? True\n",
            "Is  1 + 20 > 1 * 20 ? True\n",
            "Is  2 + 12 > 2 * 12 ? False\n",
            "Is  2 + 13 > 2 * 13 ? False\n",
            "Is  2 + 14 > 2 * 14 ? False\n",
            "Is  2 + 15 > 2 * 15 ? False\n",
            "Is  2 + 16 > 2 * 16 ? False\n",
            "Is  2 + 17 > 2 * 17 ? False\n",
            "Is  2 + 18 > 2 * 18 ? False\n",
            "Is  2 + 19 > 2 * 19 ? False\n",
            "Is  2 + 20 > 2 * 20 ? False\n",
            "Is  3 + 12 > 3 * 12 ? False\n",
            "Is  3 + 13 > 3 * 13 ? False\n",
            "Is  3 + 14 > 3 * 14 ? False\n",
            "Is  3 + 15 > 3 * 15 ? False\n",
            "Is  3 + 16 > 3 * 16 ? False\n",
            "Is  3 + 17 > 3 * 17 ? False\n",
            "Is  3 + 18 > 3 * 18 ? False\n",
            "Is  3 + 19 > 3 * 19 ? False\n",
            "Is  3 + 20 > 3 * 20 ? False\n",
            "Is  4 + 12 > 4 * 12 ? False\n",
            "Is  4 + 13 > 4 * 13 ? False\n",
            "Is  4 + 14 > 4 * 14 ? False\n",
            "Is  4 + 15 > 4 * 15 ? False\n",
            "Is  4 + 16 > 4 * 16 ? False\n",
            "Is  4 + 17 > 4 * 17 ? False\n",
            "Is  4 + 18 > 4 * 18 ? False\n",
            "Is  4 + 19 > 4 * 19 ? False\n",
            "Is  4 + 20 > 4 * 20 ? False\n",
            "Is  5 + 12 > 5 * 12 ? False\n",
            "Is  5 + 13 > 5 * 13 ? False\n",
            "Is  5 + 14 > 5 * 14 ? False\n",
            "Is  5 + 15 > 5 * 15 ? False\n",
            "Is  5 + 16 > 5 * 16 ? False\n",
            "Is  5 + 17 > 5 * 17 ? False\n",
            "Is  5 + 18 > 5 * 18 ? False\n",
            "Is  5 + 19 > 5 * 19 ? False\n",
            "Is  5 + 20 > 5 * 20 ? False\n",
            "Is  6 + 12 > 6 * 12 ? False\n",
            "Is  6 + 13 > 6 * 13 ? False\n",
            "Is  6 + 14 > 6 * 14 ? False\n",
            "Is  6 + 15 > 6 * 15 ? False\n",
            "Is  6 + 16 > 6 * 16 ? False\n",
            "Is  6 + 17 > 6 * 17 ? False\n",
            "Is  6 + 18 > 6 * 18 ? False\n",
            "Is  6 + 19 > 6 * 19 ? False\n",
            "Is  6 + 20 > 6 * 20 ? False\n",
            "Is  7 + 12 > 7 * 12 ? False\n",
            "Is  7 + 13 > 7 * 13 ? False\n",
            "Is  7 + 14 > 7 * 14 ? False\n",
            "Is  7 + 15 > 7 * 15 ? False\n",
            "Is  7 + 16 > 7 * 16 ? False\n",
            "Is  7 + 17 > 7 * 17 ? False\n",
            "Is  7 + 18 > 7 * 18 ? False\n",
            "Is  7 + 19 > 7 * 19 ? False\n",
            "Is  7 + 20 > 7 * 20 ? False\n",
            "Is  8 + 12 > 8 * 12 ? False\n",
            "Is  8 + 13 > 8 * 13 ? False\n",
            "Is  8 + 14 > 8 * 14 ? False\n",
            "Is  8 + 15 > 8 * 15 ? False\n",
            "Is  8 + 16 > 8 * 16 ? False\n",
            "Is  8 + 17 > 8 * 17 ? False\n",
            "Is  8 + 18 > 8 * 18 ? False\n",
            "Is  8 + 19 > 8 * 19 ? False\n",
            "Is  8 + 20 > 8 * 20 ? False\n",
            "Is  9 + 12 > 9 * 12 ? False\n",
            "Is  9 + 13 > 9 * 13 ? False\n",
            "Is  9 + 14 > 9 * 14 ? False\n",
            "Is  9 + 15 > 9 * 15 ? False\n",
            "Is  9 + 16 > 9 * 16 ? False\n",
            "Is  9 + 17 > 9 * 17 ? False\n",
            "Is  9 + 18 > 9 * 18 ? False\n",
            "Is  9 + 19 > 9 * 19 ? False\n",
            "Is  9 + 20 > 9 * 20 ? False\n",
            "Is  10 + 12 > 10 * 12 ? False\n",
            "Is  10 + 13 > 10 * 13 ? False\n",
            "Is  10 + 14 > 10 * 14 ? False\n",
            "Is  10 + 15 > 10 * 15 ? False\n",
            "Is  10 + 16 > 10 * 16 ? False\n",
            "Is  10 + 17 > 10 * 17 ? False\n",
            "Is  10 + 18 > 10 * 18 ? False\n",
            "Is  10 + 19 > 10 * 19 ? False\n",
            "Is  10 + 20 > 10 * 20 ? False\n"
          ]
        }
      ]
    },
    {
      "cell_type": "code",
      "source": [
        "print('The table of x * y:')\n",
        "for x in range(1,11):\n",
        "  for y in range(1,11):\n",
        "    print('The table of',x,'*',y,':', x * y)"
      ],
      "metadata": {
        "colab": {
          "base_uri": "https://localhost:8080/"
        },
        "id": "9BUXR-PbYlXw",
        "outputId": "19ed3fda-40c2-4711-8d30-359f0f47518c"
      },
      "execution_count": 68,
      "outputs": [
        {
          "output_type": "stream",
          "name": "stdout",
          "text": [
            "The table of x * y:\n",
            "The table of 1 * 1 : 1\n",
            "The table of 1 * 2 : 2\n",
            "The table of 1 * 3 : 3\n",
            "The table of 1 * 4 : 4\n",
            "The table of 1 * 5 : 5\n",
            "The table of 1 * 6 : 6\n",
            "The table of 1 * 7 : 7\n",
            "The table of 1 * 8 : 8\n",
            "The table of 1 * 9 : 9\n",
            "The table of 1 * 10 : 10\n",
            "The table of 2 * 1 : 2\n",
            "The table of 2 * 2 : 4\n",
            "The table of 2 * 3 : 6\n",
            "The table of 2 * 4 : 8\n",
            "The table of 2 * 5 : 10\n",
            "The table of 2 * 6 : 12\n",
            "The table of 2 * 7 : 14\n",
            "The table of 2 * 8 : 16\n",
            "The table of 2 * 9 : 18\n",
            "The table of 2 * 10 : 20\n",
            "The table of 3 * 1 : 3\n",
            "The table of 3 * 2 : 6\n",
            "The table of 3 * 3 : 9\n",
            "The table of 3 * 4 : 12\n",
            "The table of 3 * 5 : 15\n",
            "The table of 3 * 6 : 18\n",
            "The table of 3 * 7 : 21\n",
            "The table of 3 * 8 : 24\n",
            "The table of 3 * 9 : 27\n",
            "The table of 3 * 10 : 30\n",
            "The table of 4 * 1 : 4\n",
            "The table of 4 * 2 : 8\n",
            "The table of 4 * 3 : 12\n",
            "The table of 4 * 4 : 16\n",
            "The table of 4 * 5 : 20\n",
            "The table of 4 * 6 : 24\n",
            "The table of 4 * 7 : 28\n",
            "The table of 4 * 8 : 32\n",
            "The table of 4 * 9 : 36\n",
            "The table of 4 * 10 : 40\n",
            "The table of 5 * 1 : 5\n",
            "The table of 5 * 2 : 10\n",
            "The table of 5 * 3 : 15\n",
            "The table of 5 * 4 : 20\n",
            "The table of 5 * 5 : 25\n",
            "The table of 5 * 6 : 30\n",
            "The table of 5 * 7 : 35\n",
            "The table of 5 * 8 : 40\n",
            "The table of 5 * 9 : 45\n",
            "The table of 5 * 10 : 50\n",
            "The table of 6 * 1 : 6\n",
            "The table of 6 * 2 : 12\n",
            "The table of 6 * 3 : 18\n",
            "The table of 6 * 4 : 24\n",
            "The table of 6 * 5 : 30\n",
            "The table of 6 * 6 : 36\n",
            "The table of 6 * 7 : 42\n",
            "The table of 6 * 8 : 48\n",
            "The table of 6 * 9 : 54\n",
            "The table of 6 * 10 : 60\n",
            "The table of 7 * 1 : 7\n",
            "The table of 7 * 2 : 14\n",
            "The table of 7 * 3 : 21\n",
            "The table of 7 * 4 : 28\n",
            "The table of 7 * 5 : 35\n",
            "The table of 7 * 6 : 42\n",
            "The table of 7 * 7 : 49\n",
            "The table of 7 * 8 : 56\n",
            "The table of 7 * 9 : 63\n",
            "The table of 7 * 10 : 70\n",
            "The table of 8 * 1 : 8\n",
            "The table of 8 * 2 : 16\n",
            "The table of 8 * 3 : 24\n",
            "The table of 8 * 4 : 32\n",
            "The table of 8 * 5 : 40\n",
            "The table of 8 * 6 : 48\n",
            "The table of 8 * 7 : 56\n",
            "The table of 8 * 8 : 64\n",
            "The table of 8 * 9 : 72\n",
            "The table of 8 * 10 : 80\n",
            "The table of 9 * 1 : 9\n",
            "The table of 9 * 2 : 18\n",
            "The table of 9 * 3 : 27\n",
            "The table of 9 * 4 : 36\n",
            "The table of 9 * 5 : 45\n",
            "The table of 9 * 6 : 54\n",
            "The table of 9 * 7 : 63\n",
            "The table of 9 * 8 : 72\n",
            "The table of 9 * 9 : 81\n",
            "The table of 9 * 10 : 90\n",
            "The table of 10 * 1 : 10\n",
            "The table of 10 * 2 : 20\n",
            "The table of 10 * 3 : 30\n",
            "The table of 10 * 4 : 40\n",
            "The table of 10 * 5 : 50\n",
            "The table of 10 * 6 : 60\n",
            "The table of 10 * 7 : 70\n",
            "The table of 10 * 8 : 80\n",
            "The table of 10 * 9 : 90\n",
            "The table of 10 * 10 : 100\n"
          ]
        }
      ]
    },
    {
      "cell_type": "code",
      "source": [
        "# Practice\n",
        "# Multiplication - A solutions\n",
        "\n",
        "for x in range(1,11):\n",
        "  print('Table of', x, ':')\n",
        "  for y in range(1,11):\n",
        "    print(x, '*', y,'=', x*y)"
      ],
      "metadata": {
        "colab": {
          "base_uri": "https://localhost:8080/"
        },
        "id": "UaPci2OnaZEz",
        "outputId": "67ca8448-ad93-47ff-ed21-333acdc9574d"
      },
      "execution_count": 70,
      "outputs": [
        {
          "output_type": "stream",
          "name": "stdout",
          "text": [
            "Table of 1 :\n",
            "1 * 1 = 1\n",
            "1 * 2 = 2\n",
            "1 * 3 = 3\n",
            "1 * 4 = 4\n",
            "1 * 5 = 5\n",
            "1 * 6 = 6\n",
            "1 * 7 = 7\n",
            "1 * 8 = 8\n",
            "1 * 9 = 9\n",
            "1 * 10 = 10\n",
            "Table of 2 :\n",
            "2 * 1 = 2\n",
            "2 * 2 = 4\n",
            "2 * 3 = 6\n",
            "2 * 4 = 8\n",
            "2 * 5 = 10\n",
            "2 * 6 = 12\n",
            "2 * 7 = 14\n",
            "2 * 8 = 16\n",
            "2 * 9 = 18\n",
            "2 * 10 = 20\n",
            "Table of 3 :\n",
            "3 * 1 = 3\n",
            "3 * 2 = 6\n",
            "3 * 3 = 9\n",
            "3 * 4 = 12\n",
            "3 * 5 = 15\n",
            "3 * 6 = 18\n",
            "3 * 7 = 21\n",
            "3 * 8 = 24\n",
            "3 * 9 = 27\n",
            "3 * 10 = 30\n",
            "Table of 4 :\n",
            "4 * 1 = 4\n",
            "4 * 2 = 8\n",
            "4 * 3 = 12\n",
            "4 * 4 = 16\n",
            "4 * 5 = 20\n",
            "4 * 6 = 24\n",
            "4 * 7 = 28\n",
            "4 * 8 = 32\n",
            "4 * 9 = 36\n",
            "4 * 10 = 40\n",
            "Table of 5 :\n",
            "5 * 1 = 5\n",
            "5 * 2 = 10\n",
            "5 * 3 = 15\n",
            "5 * 4 = 20\n",
            "5 * 5 = 25\n",
            "5 * 6 = 30\n",
            "5 * 7 = 35\n",
            "5 * 8 = 40\n",
            "5 * 9 = 45\n",
            "5 * 10 = 50\n",
            "Table of 6 :\n",
            "6 * 1 = 6\n",
            "6 * 2 = 12\n",
            "6 * 3 = 18\n",
            "6 * 4 = 24\n",
            "6 * 5 = 30\n",
            "6 * 6 = 36\n",
            "6 * 7 = 42\n",
            "6 * 8 = 48\n",
            "6 * 9 = 54\n",
            "6 * 10 = 60\n",
            "Table of 7 :\n",
            "7 * 1 = 7\n",
            "7 * 2 = 14\n",
            "7 * 3 = 21\n",
            "7 * 4 = 28\n",
            "7 * 5 = 35\n",
            "7 * 6 = 42\n",
            "7 * 7 = 49\n",
            "7 * 8 = 56\n",
            "7 * 9 = 63\n",
            "7 * 10 = 70\n",
            "Table of 8 :\n",
            "8 * 1 = 8\n",
            "8 * 2 = 16\n",
            "8 * 3 = 24\n",
            "8 * 4 = 32\n",
            "8 * 5 = 40\n",
            "8 * 6 = 48\n",
            "8 * 7 = 56\n",
            "8 * 8 = 64\n",
            "8 * 9 = 72\n",
            "8 * 10 = 80\n",
            "Table of 9 :\n",
            "9 * 1 = 9\n",
            "9 * 2 = 18\n",
            "9 * 3 = 27\n",
            "9 * 4 = 36\n",
            "9 * 5 = 45\n",
            "9 * 6 = 54\n",
            "9 * 7 = 63\n",
            "9 * 8 = 72\n",
            "9 * 9 = 81\n",
            "9 * 10 = 90\n",
            "Table of 10 :\n",
            "10 * 1 = 10\n",
            "10 * 2 = 20\n",
            "10 * 3 = 30\n",
            "10 * 4 = 40\n",
            "10 * 5 = 50\n",
            "10 * 6 = 60\n",
            "10 * 7 = 70\n",
            "10 * 8 = 80\n",
            "10 * 9 = 90\n",
            "10 * 10 = 100\n"
          ]
        }
      ]
    }
  ]
}