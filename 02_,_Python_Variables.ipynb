{
  "nbformat": 4,
  "nbformat_minor": 0,
  "metadata": {
    "colab": {
      "name": "02 -,-Python Variables.ipynb",
      "provenance": [],
      "authorship_tag": "ABX9TyOjazkKur2vICMRqb8MpGiY",
      "include_colab_link": true
    },
    "kernelspec": {
      "name": "python3",
      "display_name": "Python 3"
    },
    "language_info": {
      "name": "python"
    }
  },
  "cells": [
    {
      "cell_type": "markdown",
      "metadata": {
        "id": "view-in-github",
        "colab_type": "text"
      },
      "source": [
        "<a href=\"https://colab.research.google.com/github/Cristiancperez/Code_in_class/blob/main/02_%2C_Python_Variables.ipynb\" target=\"_parent\"><img src=\"https://colab.research.google.com/assets/colab-badge.svg\" alt=\"Open In Colab\"/></a>"
      ]
    },
    {
      "cell_type": "markdown",
      "source": [
        "#1. What is a Variable?\n",
        "\n",
        "*Container*, **stores** values "
      ],
      "metadata": {
        "id": "0tW-oM23O01w"
      }
    },
    {
      "cell_type": "markdown",
      "source": [
        "# 2. Declaration and Assigment\n",
        "\n"
      ],
      "metadata": {
        "id": "smD7pcyiPRUL"
      }
    },
    {
      "cell_type": "code",
      "source": [
        "# Example\n",
        "\n",
        "a = 4\n"
      ],
      "metadata": {
        "id": "XsuUlSSzPPtR"
      },
      "execution_count": 16,
      "outputs": []
    },
    {
      "cell_type": "code",
      "source": [
        "# Example using variable\n",
        "print(a + 1)"
      ],
      "metadata": {
        "colab": {
          "base_uri": "https://localhost:8080/"
        },
        "id": "uCgwqWSSQZ5U",
        "outputId": "61cf9da8-8ded-4925-f579-df17c1f78950"
      },
      "execution_count": 6,
      "outputs": [
        {
          "output_type": "stream",
          "name": "stdout",
          "text": [
            "5\n"
          ]
        }
      ]
    },
    {
      "cell_type": "code",
      "source": [
        "# Example\n",
        "x = y = z = 100\n",
        "print(x,y,z)"
      ],
      "metadata": {
        "colab": {
          "base_uri": "https://localhost:8080/"
        },
        "id": "3fpzFWL_Q1s1",
        "outputId": "df20d334-e325-4c6f-cfa8-f54cdb4b54ec"
      },
      "execution_count": 11,
      "outputs": [
        {
          "output_type": "stream",
          "name": "stdout",
          "text": [
            "100 100 100\n"
          ]
        }
      ]
    },
    {
      "cell_type": "markdown",
      "source": [
        "# 3. Delete and clear"
      ],
      "metadata": {
        "id": "O2_1clPERWN1"
      }
    },
    {
      "cell_type": "code",
      "source": [
        "# Example - deleting a single variable\n",
        "age = 21\n",
        "del age"
      ],
      "metadata": {
        "id": "Uoklkx05R0FO"
      },
      "execution_count": 13,
      "outputs": []
    },
    {
      "cell_type": "code",
      "source": [
        "# Example - deleting a list of variables\n",
        "del a,at"
      ],
      "metadata": {
        "id": "25kCl_pFSNkH"
      },
      "execution_count": 17,
      "outputs": []
    },
    {
      "cell_type": "code",
      "source": [
        "# Example - erase of clear all variables\n",
        "%reset"
      ],
      "metadata": {
        "colab": {
          "base_uri": "https://localhost:8080/"
        },
        "id": "n713c8xYSmyX",
        "outputId": "9113b50d-5e67-4440-a320-81b9825b0d24"
      },
      "execution_count": 18,
      "outputs": [
        {
          "name": "stdout",
          "output_type": "stream",
          "text": [
            "Once deleted, variables cannot be recovered. Proceed (y/[n])? y\n"
          ]
        }
      ]
    },
    {
      "cell_type": "code",
      "source": [
        "a = 7.2345"
      ],
      "metadata": {
        "id": "cQMU_ZweTM8p"
      },
      "execution_count": 19,
      "outputs": []
    },
    {
      "cell_type": "code",
      "source": [
        "for i in range(0,4): print('Round with', i, 'decimals;', round(a,i))"
      ],
      "metadata": {
        "colab": {
          "base_uri": "https://localhost:8080/"
        },
        "id": "5JGxrn4LTT7g",
        "outputId": "e1dbc3f0-ebc4-4d01-85cc-32d8a365c395"
      },
      "execution_count": 20,
      "outputs": [
        {
          "output_type": "stream",
          "name": "stdout",
          "text": [
            "Round with 0 decimals; 7.0\n",
            "Round with 1 decimals; 7.2\n",
            "Round with 2 decimals; 7.23\n",
            "Round with 3 decimals; 7.234\n"
          ]
        }
      ]
    },
    {
      "cell_type": "code",
      "source": [
        "b = 2\n",
        "print('This is the list of the 100th Multiples of', b,':')\n",
        "for i in range(1,101): print('Position:',i,'Multiple:', b*i)"
      ],
      "metadata": {
        "colab": {
          "base_uri": "https://localhost:8080/"
        },
        "id": "221FNvllUOri",
        "outputId": "5ebd2df0-78c5-4115-e9ca-70115a3123f2"
      },
      "execution_count": 24,
      "outputs": [
        {
          "output_type": "stream",
          "name": "stdout",
          "text": [
            "This is the list of the 100th Multiples of 2 :\n",
            "Position: 1 Multiple: 2\n",
            "Position: 2 Multiple: 4\n",
            "Position: 3 Multiple: 6\n",
            "Position: 4 Multiple: 8\n",
            "Position: 5 Multiple: 10\n",
            "Position: 6 Multiple: 12\n",
            "Position: 7 Multiple: 14\n",
            "Position: 8 Multiple: 16\n",
            "Position: 9 Multiple: 18\n",
            "Position: 10 Multiple: 20\n",
            "Position: 11 Multiple: 22\n",
            "Position: 12 Multiple: 24\n",
            "Position: 13 Multiple: 26\n",
            "Position: 14 Multiple: 28\n",
            "Position: 15 Multiple: 30\n",
            "Position: 16 Multiple: 32\n",
            "Position: 17 Multiple: 34\n",
            "Position: 18 Multiple: 36\n",
            "Position: 19 Multiple: 38\n",
            "Position: 20 Multiple: 40\n",
            "Position: 21 Multiple: 42\n",
            "Position: 22 Multiple: 44\n",
            "Position: 23 Multiple: 46\n",
            "Position: 24 Multiple: 48\n",
            "Position: 25 Multiple: 50\n",
            "Position: 26 Multiple: 52\n",
            "Position: 27 Multiple: 54\n",
            "Position: 28 Multiple: 56\n",
            "Position: 29 Multiple: 58\n",
            "Position: 30 Multiple: 60\n",
            "Position: 31 Multiple: 62\n",
            "Position: 32 Multiple: 64\n",
            "Position: 33 Multiple: 66\n",
            "Position: 34 Multiple: 68\n",
            "Position: 35 Multiple: 70\n",
            "Position: 36 Multiple: 72\n",
            "Position: 37 Multiple: 74\n",
            "Position: 38 Multiple: 76\n",
            "Position: 39 Multiple: 78\n",
            "Position: 40 Multiple: 80\n",
            "Position: 41 Multiple: 82\n",
            "Position: 42 Multiple: 84\n",
            "Position: 43 Multiple: 86\n",
            "Position: 44 Multiple: 88\n",
            "Position: 45 Multiple: 90\n",
            "Position: 46 Multiple: 92\n",
            "Position: 47 Multiple: 94\n",
            "Position: 48 Multiple: 96\n",
            "Position: 49 Multiple: 98\n",
            "Position: 50 Multiple: 100\n",
            "Position: 51 Multiple: 102\n",
            "Position: 52 Multiple: 104\n",
            "Position: 53 Multiple: 106\n",
            "Position: 54 Multiple: 108\n",
            "Position: 55 Multiple: 110\n",
            "Position: 56 Multiple: 112\n",
            "Position: 57 Multiple: 114\n",
            "Position: 58 Multiple: 116\n",
            "Position: 59 Multiple: 118\n",
            "Position: 60 Multiple: 120\n",
            "Position: 61 Multiple: 122\n",
            "Position: 62 Multiple: 124\n",
            "Position: 63 Multiple: 126\n",
            "Position: 64 Multiple: 128\n",
            "Position: 65 Multiple: 130\n",
            "Position: 66 Multiple: 132\n",
            "Position: 67 Multiple: 134\n",
            "Position: 68 Multiple: 136\n",
            "Position: 69 Multiple: 138\n",
            "Position: 70 Multiple: 140\n",
            "Position: 71 Multiple: 142\n",
            "Position: 72 Multiple: 144\n",
            "Position: 73 Multiple: 146\n",
            "Position: 74 Multiple: 148\n",
            "Position: 75 Multiple: 150\n",
            "Position: 76 Multiple: 152\n",
            "Position: 77 Multiple: 154\n",
            "Position: 78 Multiple: 156\n",
            "Position: 79 Multiple: 158\n",
            "Position: 80 Multiple: 160\n",
            "Position: 81 Multiple: 162\n",
            "Position: 82 Multiple: 164\n",
            "Position: 83 Multiple: 166\n",
            "Position: 84 Multiple: 168\n",
            "Position: 85 Multiple: 170\n",
            "Position: 86 Multiple: 172\n",
            "Position: 87 Multiple: 174\n",
            "Position: 88 Multiple: 176\n",
            "Position: 89 Multiple: 178\n",
            "Position: 90 Multiple: 180\n",
            "Position: 91 Multiple: 182\n",
            "Position: 92 Multiple: 184\n",
            "Position: 93 Multiple: 186\n",
            "Position: 94 Multiple: 188\n",
            "Position: 95 Multiple: 190\n",
            "Position: 96 Multiple: 192\n",
            "Position: 97 Multiple: 194\n",
            "Position: 98 Multiple: 196\n",
            "Position: 99 Multiple: 198\n",
            "Position: 100 Multiple: 200\n"
          ]
        }
      ]
    }
  ]
}