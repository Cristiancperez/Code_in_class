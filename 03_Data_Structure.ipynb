{
  "nbformat": 4,
  "nbformat_minor": 0,
  "metadata": {
    "colab": {
      "provenance": [],
      "toc_visible": true,
      "authorship_tag": "ABX9TyPpWHNOGdtUrRrtBRqMAuKt",
      "include_colab_link": true
    },
    "kernelspec": {
      "name": "python3",
      "display_name": "Python 3"
    },
    "language_info": {
      "name": "python"
    }
  },
  "cells": [
    {
      "cell_type": "markdown",
      "metadata": {
        "id": "view-in-github",
        "colab_type": "text"
      },
      "source": [
        "<a href=\"https://colab.research.google.com/github/Cristiancperez/Code_in_class/blob/main/03_Data_Structure.ipynb\" target=\"_parent\"><img src=\"https://colab.research.google.com/assets/colab-badge.svg\" alt=\"Open In Colab\"/></a>"
      ]
    },
    {
      "cell_type": "markdown",
      "source": [
        "# **1. What is Data structure?**\n",
        "\n",
        "Data structure are like variable, they *save* information, the difference is that data structure can strore more than 1 value.\n",
        "\n",
        "Formally, Date structure store a **sequence** of values which can be located with an index (sciling).\n",
        "\n",
        "\n",
        "**Example:**\n",
        "\n",
        "* List, Vectors and Matrices\n",
        "* Databases.\n",
        "\n",
        "Now, basic phyton suck. It lacks specialized tools. In this case, we need to install *numpy*\n"
      ],
      "metadata": {
        "id": "H-gYIeyNaIWR"
      }
    },
    {
      "cell_type": "markdown",
      "source": [
        "# **2. liner algebra - Numpy** "
      ],
      "metadata": {
        "id": "I3nh7h5XaIRC"
      }
    },
    {
      "cell_type": "markdown",
      "source": [
        "## **2.1 What is numpy?**\n",
        "Numpy ( or numerical phyton) is a colletion of funtions and methods to handle DS.\n",
        "\n",
        "This library (downlown diferents extencions for a phyton) works very well with other libraries and it is very popular."
      ],
      "metadata": {
        "id": "9XHjz5dPaH2C"
      }
    },
    {
      "cell_type": "code",
      "source": [
        "# Install library \n",
        "\n",
        "import numpy as np\n"
      ],
      "metadata": {
        "id": "lDoR0h6Tg1TB"
      },
      "execution_count": 2,
      "outputs": []
    },
    {
      "cell_type": "markdown",
      "source": [
        "\n",
        "## 2.2 Numpy arrays - vectors and matrices \n",
        "\n",
        "Objects arramged by row and columns, with these object you can sum and multiply \n",
        "\n",
        "\n",
        "*Example 1:*\n",
        "Let be x_{1] and this a mathematical notation $x_1$\n",
        "\n",
        "Let $a$ be a vector with 2 rows and 1 column:\n",
        "\n",
        "\n",
        "\\begin{equation}\n",
        "a = \\left[\\begin{array}{c} a_{1} \\\\ a_{2}\n",
        "    \\end{array}\\right]\n",
        "\\end{equation}\n",
        "\n",
        "This is called a **COLUMN VECTOR**, and the dimension or shape is $(3,1)$ or $(2 \\times1)$\n",
        "\n",
        "* the column is always firts and the rows is before \n",
        "\n",
        "*Example 2:*\n",
        "\n",
        "\\begin{equation}\n",
        "a = \\left[\\begin{array}{c} b_{1} & b_{2} & b_{3}\n",
        "    \\end{array}\\right]\n",
        "\\end{equation}\n",
        "\n",
        "\n",
        "This is called a **ROW VECTOR** and de dimension or shape is $(1,3)$ or $(1\\times3)$\n",
        "\n",
        "*Example 3:* \n",
        "\n",
        "A matrix has more than 1 row and more than 1 column.\n",
        "\n",
        "Of course if the number of roes and columns are equal, it is called a *squared matrix*.\n",
        "\n",
        "In general, lef $M$ be a matrix of dimensions $(n,m)$ or $(n\\times m)$.\n",
        "\n",
        "\n",
        "For the case of $n=3$ and $m=3$\n",
        "\n",
        "\\begin{equation}\n",
        "M = \\left[\\begin{array}{c} \n",
        "m_{1,1} & m_{1,2} & m_{1,3} \\\\\n",
        "m_{2,1} & m_{2,2} & m_{2,3} \\\\\n",
        "m_{3,1} & m_{3,2} & m_{3,3} \\\\\n",
        "    \\end{array}\\right]\n",
        "\\end{equation}\n",
        "\n",
        "Now, all of this in code."
      ],
      "metadata": {
        "id": "KbuxM0ZtaHBK"
      }
    },
    {
      "cell_type": "code",
      "source": [
        "# Example - Column Vector\n",
        "\n",
        "a = np.array([[4], [5], [6]])\n",
        "print(a)\n",
        "print(a.shape)"
      ],
      "metadata": {
        "colab": {
          "base_uri": "https://localhost:8080/"
        },
        "id": "vWPCXoGsc3Dq",
        "outputId": "ed310a3a-a9fc-4415-97fe-4be5e40c771e"
      },
      "execution_count": null,
      "outputs": [
        {
          "output_type": "stream",
          "name": "stdout",
          "text": [
            "[[4]\n",
            " [5]\n",
            " [6]]\n",
            "(3, 1)\n"
          ]
        }
      ]
    },
    {
      "cell_type": "code",
      "source": [
        "# Example - Row Vector\n",
        "\n",
        "b = np.array([[1, 2, 3]])\n",
        "print(b)\n",
        "print(b.shape)"
      ],
      "metadata": {
        "colab": {
          "base_uri": "https://localhost:8080/"
        },
        "id": "4qm8umNAaePf",
        "outputId": "dbd84cd9-27ab-4ed7-9e50-c99b1ee98449"
      },
      "execution_count": null,
      "outputs": [
        {
          "output_type": "stream",
          "name": "stdout",
          "text": [
            "[[1 2 3]]\n",
            "(1, 3)\n"
          ]
        }
      ]
    },
    {
      "cell_type": "code",
      "source": [
        "# Example - Matrix \n",
        "\n",
        "\n",
        "M = np.array([[1,2,3],\n",
        "              [4,5,6],\n",
        "              [7,8,9]])\n",
        "\n",
        "print(M)\n",
        "print(M.shape)\n"
      ],
      "metadata": {
        "colab": {
          "base_uri": "https://localhost:8080/"
        },
        "id": "vznQkhUFa3A3",
        "outputId": "cb588c36-1713-4a90-dafc-3dc4fd34fd08"
      },
      "execution_count": null,
      "outputs": [
        {
          "output_type": "stream",
          "name": "stdout",
          "text": [
            "[[1 2 3]\n",
            " [4 5 6]\n",
            " [7 8 9]]\n",
            "(3, 3)\n"
          ]
        }
      ]
    },
    {
      "cell_type": "markdown",
      "source": [
        "**A nice trick**"
      ],
      "metadata": {
        "id": "-JzxOeePbjlW"
      }
    },
    {
      "cell_type": "code",
      "source": [
        "# nr: store the number of rows\n",
        "# nc: stores the number of columns\n",
        "nr, nc = M.shape\n"
      ],
      "metadata": {
        "id": "H2MFA64_bn-G"
      },
      "execution_count": null,
      "outputs": []
    },
    {
      "cell_type": "markdown",
      "source": [
        "**Size of DS**\n",
        "\n",
        "In Python, *size* means the number of elements in a DS."
      ],
      "metadata": {
        "id": "DcrUACIRdGiV"
      }
    },
    {
      "cell_type": "code",
      "source": [
        "M.size "
      ],
      "metadata": {
        "colab": {
          "base_uri": "https://localhost:8080/"
        },
        "id": "h02q8x8UdYLt",
        "outputId": "f8c3b670-9058-4f7d-ad49-28e7febac636"
      },
      "execution_count": null,
      "outputs": [
        {
          "output_type": "execute_result",
          "data": {
            "text/plain": [
              "9"
            ]
          },
          "metadata": {},
          "execution_count": 9
        }
      ]
    },
    {
      "cell_type": "code",
      "source": [
        "# ONE WARNING \n",
        "\n",
        "z = 2\n",
        "w = np.array([[2]])\n",
        "print(type(z),type(w))\n"
      ],
      "metadata": {
        "colab": {
          "base_uri": "https://localhost:8080/"
        },
        "id": "_JrQusVNdgUV",
        "outputId": "182fd1c9-4adf-4465-fd35-f1b78e23f105"
      },
      "execution_count": null,
      "outputs": [
        {
          "output_type": "stream",
          "name": "stdout",
          "text": [
            "<class 'int'> <class 'numpy.ndarray'>\n"
          ]
        },
        {
          "output_type": "execute_result",
          "data": {
            "text/plain": [
              "array([[1.]])"
            ]
          },
          "metadata": {},
          "execution_count": 12
        }
      ]
    },
    {
      "cell_type": "markdown",
      "source": [
        "## 2.3 Slicing \n",
        "\n",
        "It is the same as string variable, only with minor modifications.\n",
        "\n",
        "Let´s see: "
      ],
      "metadata": {
        "id": "ebLUAsI6eTy0"
      }
    },
    {
      "cell_type": "code",
      "source": [
        "# Extract the 1st element\n",
        "\n",
        "\n",
        "## Column Vector \n",
        "print(a[0,0])\n",
        "print(type(a[0,0]))\n",
        "\n",
        "\n",
        "## Row Vector\n",
        "print(b[0,0])\n",
        "print(type(b[0,0]))\n",
        "\n",
        "\n",
        "## Matriz\n",
        "print(M[1,1])\n"
      ],
      "metadata": {
        "colab": {
          "base_uri": "https://localhost:8080/"
        },
        "id": "QSLII85WefPT",
        "outputId": "047bdb2b-6480-4680-ba63-d5d2ef191eaa"
      },
      "execution_count": null,
      "outputs": [
        {
          "output_type": "stream",
          "name": "stdout",
          "text": [
            "4\n",
            "<class 'numpy.int64'>\n",
            "1\n",
            "<class 'numpy.int64'>\n",
            "5\n"
          ]
        }
      ]
    },
    {
      "cell_type": "code",
      "source": [
        "# Extract the last element\n",
        "\n",
        "print('The last element of a row vector:', b[0,-1])\n",
        "print('The last element of a column vector:', a[-1,0])\n",
        "print('The last element of a matrix:', M[-1,-1])"
      ],
      "metadata": {
        "colab": {
          "base_uri": "https://localhost:8080/"
        },
        "id": "uu442kuXgJFs",
        "outputId": "6e8f1589-5138-46de-cfd8-ccb19a81fcde"
      },
      "execution_count": null,
      "outputs": [
        {
          "output_type": "stream",
          "name": "stdout",
          "text": [
            "The last element of a row vector: 3\n",
            "The last element of a column vector: 6\n",
            "The last element of a matrix: 9\n"
          ]
        }
      ]
    },
    {
      "cell_type": "code",
      "source": [
        "# Extract a subset \n",
        "\n",
        "## Column Vector\n",
        "print(a[0:2])\n",
        "\n",
        "\n",
        "# Row Vector\n",
        "print(b[0,0:2])\n",
        "\n",
        "#Matrix \n",
        "print(M[0:2,0:2])"
      ],
      "metadata": {
        "colab": {
          "base_uri": "https://localhost:8080/"
        },
        "id": "RmiCbddCg0HU",
        "outputId": "8d354529-cfa2-4fde-f3f5-ab7c54134518"
      },
      "execution_count": null,
      "outputs": [
        {
          "output_type": "stream",
          "name": "stdout",
          "text": [
            "[[4]\n",
            " [5]]\n",
            "[1 2]\n",
            "[[1 2]\n",
            " [4 5]]\n"
          ]
        }
      ]
    },
    {
      "cell_type": "markdown",
      "source": [
        "## 2.4 Useful methods"
      ],
      "metadata": {
        "id": "45eg0m41cZgq"
      }
    },
    {
      "cell_type": "markdown",
      "source": [
        "### Zeros and Ones"
      ],
      "metadata": {
        "id": "YanHn4xYcnwS"
      }
    },
    {
      "cell_type": "markdown",
      "source": [
        "### Random numbers\n",
        "\n",
        "We are talking about probabilities, and of probabilistic distributions."
      ],
      "metadata": {
        "id": "CIymQPlqb8eR"
      }
    },
    {
      "cell_type": "markdown",
      "source": [
        "### Another creation  options"
      ],
      "metadata": {
        "id": "OacOY1PceaNC"
      }
    },
    {
      "cell_type": "markdown",
      "source": [
        "#### Uniform distribution over [0,1)\n"
      ],
      "metadata": {
        "id": "N1UYWYb-cSjS"
      }
    },
    {
      "cell_type": "code",
      "source": [
        "# A single value\n",
        "\n",
        "np.random.rand()"
      ],
      "metadata": {
        "colab": {
          "base_uri": "https://localhost:8080/"
        },
        "id": "sSb7-MQNcsjK",
        "outputId": "c1a4e019-0330-4415-b2e5-55f25f969d89"
      },
      "execution_count": 4,
      "outputs": [
        {
          "output_type": "execute_result",
          "data": {
            "text/plain": [
              "0.6662815177065324"
            ]
          },
          "metadata": {},
          "execution_count": 4
        }
      ]
    },
    {
      "cell_type": "code",
      "source": [
        "# Example - The coin toss\n",
        "## Here we are going to simulate a coin toss\n",
        "\n",
        "if np.random.rand() <= 0.5:\n",
        "  print('head')\n",
        "else:\n",
        "  print('tails')"
      ],
      "metadata": {
        "colab": {
          "base_uri": "https://localhost:8080/"
        },
        "id": "W6mPttE_dMlC",
        "outputId": "96244a9d-7ac5-44c2-b2eb-59909802bf07"
      },
      "execution_count": 9,
      "outputs": [
        {
          "output_type": "stream",
          "name": "stdout",
          "text": [
            "head\n"
          ]
        }
      ]
    },
    {
      "cell_type": "code",
      "source": [
        "# Example 2 - Ranking\n",
        "\n",
        "## The idea is to print 'Low' if the numbers is lower the 0.3\n",
        "## print 'Average' if is between 0.3 and 0.7\n",
        "## print 'High' if it is grater than 0.7\n",
        "\n",
        "rnd = np.random.rand()\n",
        "\n",
        "if rnd <= 0.3:\n",
        "  print('Low', rnd)\n",
        "elif rnd > 0.3 and rnd <= 0.7:\n",
        "  print('Average', rnd)\n",
        "else:\n",
        "  print('High', rnd)"
      ],
      "metadata": {
        "colab": {
          "base_uri": "https://localhost:8080/"
        },
        "id": "CA2WpJa4e8Zh",
        "outputId": "64e1f0ed-7f0a-47d2-9641-c8aa370cae5e"
      },
      "execution_count": 14,
      "outputs": [
        {
          "output_type": "stream",
          "name": "stdout",
          "text": [
            "Average 0.40059010542355855\n"
          ]
        }
      ]
    },
    {
      "cell_type": "markdown",
      "source": [
        "**Exercise**\n",
        "\n",
        "Code the following game. Print the messege\n",
        "'You win': if two coin tosse are heads and print 'You lose' otherwise.\n"
      ],
      "metadata": {
        "id": "OMjbFHp9hRj_"
      }
    },
    {
      "cell_type": "code",
      "source": [
        "# Solution\n",
        "\n",
        "## First try (or attempt)\n",
        "\n",
        "First_attempt = np.random.rand()\n",
        "\n",
        "if First_attempt <= 0.5:\n",
        "  print('head', First_attempt)\n",
        "else:\n",
        "  print('tails', First_attempt)\n",
        "\n",
        "## Second try (or attempt)\n",
        "\n",
        "Secund_attempt = np.random.rand()\n",
        "\n",
        "if Secund_attempt <= 0.5:\n",
        "  print('head', Secund_attempt)\n",
        "else:\n",
        "  print('tails', Secund_attempt)\n",
        "\n",
        "if First_attempt <= 0.5 and Secund_attempt <= 0.5:\n",
        "\n",
        "  print('You win!')\n",
        "else:\n",
        "  print('You lose!')\n"
      ],
      "metadata": {
        "colab": {
          "base_uri": "https://localhost:8080/"
        },
        "id": "4q60EOZthr7W",
        "outputId": "cf5465f4-3c38-408f-ae2f-579093431730"
      },
      "execution_count": 35,
      "outputs": [
        {
          "output_type": "stream",
          "name": "stdout",
          "text": [
            "head 0.4707497893815481\n",
            "head 0.06988916218428143\n",
            "You win!\n"
          ]
        }
      ]
    }
  ]
}