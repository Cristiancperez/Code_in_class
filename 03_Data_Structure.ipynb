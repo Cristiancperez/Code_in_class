{
  "nbformat": 4,
  "nbformat_minor": 0,
  "metadata": {
    "colab": {
      "provenance": [],
      "authorship_tag": "ABX9TyNd0Wm/LFPbi7eKpsmXwE+1",
      "include_colab_link": true
    },
    "kernelspec": {
      "name": "python3",
      "display_name": "Python 3"
    },
    "language_info": {
      "name": "python"
    }
  },
  "cells": [
    {
      "cell_type": "markdown",
      "metadata": {
        "id": "view-in-github",
        "colab_type": "text"
      },
      "source": [
        "<a href=\"https://colab.research.google.com/github/Cristiancperez/Code_in_class/blob/main/03_Data_Structure.ipynb\" target=\"_parent\"><img src=\"https://colab.research.google.com/assets/colab-badge.svg\" alt=\"Open In Colab\"/></a>"
      ]
    },
    {
      "cell_type": "markdown",
      "source": [
        "# **1. What is Data structure?**\n",
        "\n",
        "Data structure are like variable, they *save* information, the difference is that data structure can strore more than 1 value.\n",
        "\n",
        "Formally, Date structure store a **sequence** of values which can be located with an index (sciling).\n",
        "\n",
        "\n",
        "**Example:**\n",
        "\n",
        "* List, Vectors and Matrices\n",
        "* Databases.\n",
        "\n",
        "Now, basic phyton suck. It lacks specialized tools. In this case, we need to install *numpy*\n"
      ],
      "metadata": {
        "id": "H-gYIeyNaIWR"
      }
    },
    {
      "cell_type": "markdown",
      "source": [
        "# **2. liner algebra - Numpy** "
      ],
      "metadata": {
        "id": "I3nh7h5XaIRC"
      }
    },
    {
      "cell_type": "markdown",
      "source": [
        "## **2.1 What is numpy?**\n",
        "Numpy ( or numerical phyton) is a colletion of funtions and methods to handle DS.\n",
        "\n",
        "This library (downlown diferents extencions for a phyton) works very well with other libraries and it is very popular."
      ],
      "metadata": {
        "id": "9XHjz5dPaH2C"
      }
    },
    {
      "cell_type": "code",
      "source": [
        "# Install library \n",
        "\n",
        "import numpy as np\n"
      ],
      "metadata": {
        "id": "lDoR0h6Tg1TB"
      },
      "execution_count": 5,
      "outputs": []
    },
    {
      "cell_type": "markdown",
      "source": [
        "\n",
        "## 2.2 Numpy arrays - vectors and matrices \n",
        "\n",
        "Objects arramged by row and columns, with these object you can sum and multiply \n",
        "\n",
        "\n",
        "*Example 1:*\n",
        "\n",
        "Let be x_{1] and this a mathematical notation $x_1$\n",
        "\n",
        "Let $a$ be a vector with 2 rows and 1 column:\n",
        "\n",
        "\n",
        "\\begin{equation}\n",
        "a = \\left[\\begin{array}{c} a_{1} \\\\ a_{2}\n",
        "    \\end{array}\\right]\n",
        "\\end{equation}\n",
        "\n",
        "This is called a **COLUMN VECTOR**, and the dimension or shape is $(3,1)$ or $(2 \\times1)$\n",
        "\n",
        "* the column is always firts and the rows is before \n",
        "\n",
        "*Example 2:*\n",
        "\n",
        "\\begin{equation}\n",
        "a = \\left[\\begin{array}{c} b_{1} & b_{2} & b_{3}\n",
        "    \\end{array}\\right]\n",
        "\\end{equation}\n",
        "\n",
        "\n",
        "This is called a **ROW VECTOR** and de dimension or shape is $(1,3)$ or $(1\\times3)$\n",
        "\n",
        "*Example 3:* \n",
        "\n",
        "A matrix has more than 1 row and more than 1 column.\n",
        "\n",
        "Of course if the number of roes and columns are equal, it is called a *squared matrix*.\n",
        "\n",
        "In general, lef $M$ be a matrix of dimensions $(n,m)$ or $(n\\times m)$.\n",
        "\n",
        "\n",
        "For the case of $n=3$ and $m=3$\n",
        "\n",
        "\\begin{equation}\n",
        "M = \\left[\\begin{array}{c} \n",
        "m_{1,1} & m_{1,2} & m_{1,3} \\\\\n",
        "m_{2,1} & m_{2,2} & m_{2,3} \\\\\n",
        "m_{3,1} & m_{3,2} & m_{3,3} \\\\\n",
        "    \\end{array}\\right]\n",
        "\\end{equation}\n",
        "\n",
        "Now, all of this in code."
      ],
      "metadata": {
        "id": "KbuxM0ZtaHBK"
      }
    },
    {
      "cell_type": "code",
      "source": [
        "# Example - Column Vector\n",
        "\n",
        "a = np.array([[4], [5], [6]])\n",
        "print(a)\n",
        "print(a.shape)"
      ],
      "metadata": {
        "colab": {
          "base_uri": "https://localhost:8080/"
        },
        "id": "vWPCXoGsc3Dq",
        "outputId": "5dfc9b98-4b10-44af-91fa-20b83dc74d21"
      },
      "execution_count": 6,
      "outputs": [
        {
          "output_type": "stream",
          "name": "stdout",
          "text": [
            "[[4]\n",
            " [5]\n",
            " [6]]\n",
            "(3, 1)\n"
          ]
        }
      ]
    }
  ]
}