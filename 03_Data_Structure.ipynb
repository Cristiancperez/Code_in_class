{
  "nbformat": 4,
  "nbformat_minor": 0,
  "metadata": {
    "colab": {
      "provenance": [],
      "authorship_tag": "ABX9TyM11sgr+kLrhTr34/pq98sS",
      "include_colab_link": true
    },
    "kernelspec": {
      "name": "python3",
      "display_name": "Python 3"
    },
    "language_info": {
      "name": "python"
    }
  },
  "cells": [
    {
      "cell_type": "markdown",
      "metadata": {
        "id": "view-in-github",
        "colab_type": "text"
      },
      "source": [
        "<a href=\"https://colab.research.google.com/github/Cristiancperez/Code_in_class/blob/main/03_Data_Structure.ipynb\" target=\"_parent\"><img src=\"https://colab.research.google.com/assets/colab-badge.svg\" alt=\"Open In Colab\"/></a>"
      ]
    },
    {
      "cell_type": "markdown",
      "source": [
        "# **1. What is Data structure?**\n",
        "\n",
        "Data structure are like variable, they *save* information, the difference is that data structure can strore more than 1 value.\n",
        "\n",
        "Formally, Date structure store a **sequence** of values which can be located with an index (sciling).\n",
        "\n",
        "\n",
        "**Example:**\n",
        "\n",
        "* List, Vectors and Matrices\n",
        "* Databases.\n",
        "\n",
        "Now, basic phyton suck. It lacks specialized tools. In this case, we need to install *numpy*\n"
      ],
      "metadata": {
        "id": "H-gYIeyNaIWR"
      }
    },
    {
      "cell_type": "markdown",
      "source": [
        "# **2. liner algebra - Numpy** "
      ],
      "metadata": {
        "id": "I3nh7h5XaIRC"
      }
    },
    {
      "cell_type": "markdown",
      "source": [
        "## **2.1 What is numpy?**\n",
        "Numpy ( or numerical phyton) is a colletion of funtions and methods to handle DS.\n",
        "\n",
        "This library (downlown diferents extencions for a phyton) works very well with other libraries and it is very popular."
      ],
      "metadata": {
        "id": "9XHjz5dPaH2C"
      }
    },
    {
      "cell_type": "code",
      "source": [
        "# Install library \n",
        "\n",
        "import numpy as np\n"
      ],
      "metadata": {
        "id": "lDoR0h6Tg1TB"
      },
      "execution_count": null,
      "outputs": []
    },
    {
      "cell_type": "markdown",
      "source": [
        "\n",
        "## 2.2 Numpy arrays - vectors and matrices \n",
        "\n",
        "Objects arramged by row and columns, with these object you can sum and multiply \n",
        "\n",
        "\n",
        "*Example 1:*\n",
        "Let be x_{1] and this a mathematical notation $x_1$\n",
        "\n",
        "Let $a$ be a vector with 2 rows and 1 column:\n",
        "\n",
        "\n",
        "\\begin{equation}\n",
        "a = \\left[\\begin{array}{c} a_{1} \\\\ a_{2}\n",
        "    \\end{array}\\right]\n",
        "\\end{equation}\n",
        "\n",
        "This is called a **COLUMN VECTOR**, and the dimension or shape is $(3,1)$ or $(2 \\times1)$\n",
        "\n",
        "* the column is always firts and the rows is before \n",
        "\n",
        "*Example 2:*\n",
        "\n",
        "\\begin{equation}\n",
        "a = \\left[\\begin{array}{c} b_{1} & b_{2} & b_{3}\n",
        "    \\end{array}\\right]\n",
        "\\end{equation}\n",
        "\n",
        "\n",
        "This is called a **ROW VECTOR** and de dimension or shape is $(1,3)$ or $(1\\times3)$\n",
        "\n",
        "*Example 3:* \n",
        "\n",
        "A matrix has more than 1 row and more than 1 column.\n",
        "\n",
        "Of course if the number of roes and columns are equal, it is called a *squared matrix*.\n",
        "\n",
        "In general, lef $M$ be a matrix of dimensions $(n,m)$ or $(n\\times m)$.\n",
        "\n",
        "\n",
        "For the case of $n=3$ and $m=3$\n",
        "\n",
        "\\begin{equation}\n",
        "M = \\left[\\begin{array}{c} \n",
        "m_{1,1} & m_{1,2} & m_{1,3} \\\\\n",
        "m_{2,1} & m_{2,2} & m_{2,3} \\\\\n",
        "m_{3,1} & m_{3,2} & m_{3,3} \\\\\n",
        "    \\end{array}\\right]\n",
        "\\end{equation}\n",
        "\n",
        "Now, all of this in code."
      ],
      "metadata": {
        "id": "KbuxM0ZtaHBK"
      }
    },
    {
      "cell_type": "code",
      "source": [
        "# Example - Column Vector\n",
        "\n",
        "a = np.array([[4], [5], [6]])\n",
        "print(a)\n",
        "print(a.shape)"
      ],
      "metadata": {
        "colab": {
          "base_uri": "https://localhost:8080/"
        },
        "id": "vWPCXoGsc3Dq",
        "outputId": "ed310a3a-a9fc-4415-97fe-4be5e40c771e"
      },
      "execution_count": null,
      "outputs": [
        {
          "output_type": "stream",
          "name": "stdout",
          "text": [
            "[[4]\n",
            " [5]\n",
            " [6]]\n",
            "(3, 1)\n"
          ]
        }
      ]
    },
    {
      "cell_type": "code",
      "source": [
        "# Example - Row Vector\n",
        "\n",
        "b = np.array([[1, 2, 3]])\n",
        "print(b)\n",
        "print(b.shape)"
      ],
      "metadata": {
        "colab": {
          "base_uri": "https://localhost:8080/"
        },
        "id": "4qm8umNAaePf",
        "outputId": "dbd84cd9-27ab-4ed7-9e50-c99b1ee98449"
      },
      "execution_count": null,
      "outputs": [
        {
          "output_type": "stream",
          "name": "stdout",
          "text": [
            "[[1 2 3]]\n",
            "(1, 3)\n"
          ]
        }
      ]
    },
    {
      "cell_type": "code",
      "source": [
        "# Example - Matrix \n",
        "\n",
        "\n",
        "M = np.array([[1,2,3],\n",
        "              [4,5,6],\n",
        "              [7,8,9]])\n",
        "\n",
        "print(M)\n",
        "print(M.shape)\n"
      ],
      "metadata": {
        "colab": {
          "base_uri": "https://localhost:8080/"
        },
        "id": "vznQkhUFa3A3",
        "outputId": "cb588c36-1713-4a90-dafc-3dc4fd34fd08"
      },
      "execution_count": null,
      "outputs": [
        {
          "output_type": "stream",
          "name": "stdout",
          "text": [
            "[[1 2 3]\n",
            " [4 5 6]\n",
            " [7 8 9]]\n",
            "(3, 3)\n"
          ]
        }
      ]
    },
    {
      "cell_type": "markdown",
      "source": [
        "**A nice trick**"
      ],
      "metadata": {
        "id": "-JzxOeePbjlW"
      }
    },
    {
      "cell_type": "code",
      "source": [
        "# nr: store the number of rows\n",
        "# nc: stores the number of columns\n",
        "nr, nc = M.shape\n"
      ],
      "metadata": {
        "id": "H2MFA64_bn-G"
      },
      "execution_count": null,
      "outputs": []
    },
    {
      "cell_type": "markdown",
      "source": [
        "**Size of DS**\n",
        "\n",
        "In Python, *size* means the number of elements in a DS."
      ],
      "metadata": {
        "id": "DcrUACIRdGiV"
      }
    },
    {
      "cell_type": "code",
      "source": [
        "M.size "
      ],
      "metadata": {
        "colab": {
          "base_uri": "https://localhost:8080/"
        },
        "id": "h02q8x8UdYLt",
        "outputId": "f8c3b670-9058-4f7d-ad49-28e7febac636"
      },
      "execution_count": null,
      "outputs": [
        {
          "output_type": "execute_result",
          "data": {
            "text/plain": [
              "9"
            ]
          },
          "metadata": {},
          "execution_count": 9
        }
      ]
    },
    {
      "cell_type": "code",
      "source": [
        "# ONE WARNING \n",
        "\n",
        "z = 2\n",
        "w = np.array([[2]])\n",
        "print(type(z),type(w))\n"
      ],
      "metadata": {
        "colab": {
          "base_uri": "https://localhost:8080/"
        },
        "id": "_JrQusVNdgUV",
        "outputId": "182fd1c9-4adf-4465-fd35-f1b78e23f105"
      },
      "execution_count": null,
      "outputs": [
        {
          "output_type": "stream",
          "name": "stdout",
          "text": [
            "<class 'int'> <class 'numpy.ndarray'>\n"
          ]
        },
        {
          "output_type": "execute_result",
          "data": {
            "text/plain": [
              "array([[1.]])"
            ]
          },
          "metadata": {},
          "execution_count": 12
        }
      ]
    },
    {
      "cell_type": "markdown",
      "source": [
        "## 2.3 Slicing \n",
        "\n",
        "It is the same as string variable, only with minor modifications.\n",
        "\n",
        "Let´s see: "
      ],
      "metadata": {
        "id": "ebLUAsI6eTy0"
      }
    },
    {
      "cell_type": "code",
      "source": [
        "# Extract the 1st element\n",
        "\n",
        "\n",
        "## Column Vector \n",
        "print(a[0,0])\n",
        "print(type(a[0,0]))\n",
        "\n",
        "\n",
        "## Row Vector\n",
        "print(b[0,0])\n",
        "print(type(b[0,0]))\n",
        "\n",
        "\n",
        "## Matriz\n",
        "print(M[1,1])\n"
      ],
      "metadata": {
        "colab": {
          "base_uri": "https://localhost:8080/"
        },
        "id": "QSLII85WefPT",
        "outputId": "047bdb2b-6480-4680-ba63-d5d2ef191eaa"
      },
      "execution_count": null,
      "outputs": [
        {
          "output_type": "stream",
          "name": "stdout",
          "text": [
            "4\n",
            "<class 'numpy.int64'>\n",
            "1\n",
            "<class 'numpy.int64'>\n",
            "5\n"
          ]
        }
      ]
    },
    {
      "cell_type": "code",
      "source": [
        "# Extract the last element\n",
        "\n",
        "print('The last element of a row vector:', b[0,-1])\n",
        "print('The last element of a column vector:', a[-1,0])\n",
        "print('The last element of a matrix:', M[-1,-1])"
      ],
      "metadata": {
        "colab": {
          "base_uri": "https://localhost:8080/"
        },
        "id": "uu442kuXgJFs",
        "outputId": "6e8f1589-5138-46de-cfd8-ccb19a81fcde"
      },
      "execution_count": null,
      "outputs": [
        {
          "output_type": "stream",
          "name": "stdout",
          "text": [
            "The last element of a row vector: 3\n",
            "The last element of a column vector: 6\n",
            "The last element of a matrix: 9\n"
          ]
        }
      ]
    },
    {
      "cell_type": "code",
      "source": [
        "# Extract a subset \n",
        "\n",
        "## Column Vector\n",
        "print(a[0:2])\n",
        "\n",
        "\n",
        "# Row Vector\n",
        "print(b[0,0:2])\n",
        "\n",
        "#Matrix \n",
        "print(M[0:2,0:2])"
      ],
      "metadata": {
        "colab": {
          "base_uri": "https://localhost:8080/"
        },
        "id": "RmiCbddCg0HU",
        "outputId": "8d354529-cfa2-4fde-f3f5-ab7c54134518"
      },
      "execution_count": null,
      "outputs": [
        {
          "output_type": "stream",
          "name": "stdout",
          "text": [
            "[[4]\n",
            " [5]]\n",
            "[1 2]\n",
            "[[1 2]\n",
            " [4 5]]\n"
          ]
        }
      ]
    },
    {
      "cell_type": "markdown",
      "source": [
        "## 2.4 Useful methods"
      ],
      "metadata": {
        "id": "45eg0m41cZgq"
      }
    },
    {
      "cell_type": "markdown",
      "source": [
        "### Zeros and Ones"
      ],
      "metadata": {
        "id": "YanHn4xYcnwS"
      }
    },
    {
      "cell_type": "markdown",
      "source": [
        "### Random numbers\n",
        "\n",
        "We are talking about probabilities, and of probabilistic distributions."
      ],
      "metadata": {
        "id": "CIymQPlqb8eR"
      }
    },
    {
      "cell_type": "markdown",
      "source": [
        "### Another creation  options"
      ],
      "metadata": {
        "id": "OacOY1PceaNC"
      }
    },
    {
      "cell_type": "markdown",
      "source": [
        "#### Uniform distribution over [0,1)\n"
      ],
      "metadata": {
        "id": "N1UYWYb-cSjS"
      }
    },
    {
      "cell_type": "code",
      "source": [
        "# A single value\n",
        "\n",
        "np.random.rand()"
      ],
      "metadata": {
        "colab": {
          "base_uri": "https://localhost:8080/"
        },
        "id": "sSb7-MQNcsjK",
        "outputId": "c1a4e019-0330-4415-b2e5-55f25f969d89"
      },
      "execution_count": null,
      "outputs": [
        {
          "output_type": "execute_result",
          "data": {
            "text/plain": [
              "0.6662815177065324"
            ]
          },
          "metadata": {},
          "execution_count": 4
        }
      ]
    },
    {
      "cell_type": "code",
      "source": [
        "# Example - The coin toss\n",
        "## Here we are going to simulate a coin toss\n",
        "\n",
        "if np.random.rand() <= 0.5:\n",
        "  print('head')\n",
        "else:\n",
        "  print('tails')"
      ],
      "metadata": {
        "colab": {
          "base_uri": "https://localhost:8080/"
        },
        "id": "W6mPttE_dMlC",
        "outputId": "96244a9d-7ac5-44c2-b2eb-59909802bf07"
      },
      "execution_count": null,
      "outputs": [
        {
          "output_type": "stream",
          "name": "stdout",
          "text": [
            "head\n"
          ]
        }
      ]
    },
    {
      "cell_type": "code",
      "source": [
        "# Example 2 - Ranking\n",
        "\n",
        "## The idea is to print 'Low' if the numbers is lower the 0.3\n",
        "## print 'Average' if is between 0.3 and 0.7\n",
        "## print 'High' if it is grater than 0.7\n",
        "\n",
        "rnd = np.random.rand()\n",
        "\n",
        "if rnd <= 0.3:\n",
        "  print('Low', rnd)\n",
        "elif rnd > 0.3 and rnd <= 0.7:\n",
        "  print('Average', rnd)\n",
        "else:\n",
        "  print('High', rnd)"
      ],
      "metadata": {
        "colab": {
          "base_uri": "https://localhost:8080/"
        },
        "id": "CA2WpJa4e8Zh",
        "outputId": "64e1f0ed-7f0a-47d2-9641-c8aa370cae5e"
      },
      "execution_count": null,
      "outputs": [
        {
          "output_type": "stream",
          "name": "stdout",
          "text": [
            "Average 0.40059010542355855\n"
          ]
        }
      ]
    },
    {
      "cell_type": "markdown",
      "source": [
        "**Exercise**\n",
        "\n",
        "Code the following game. Print the messege\n",
        "'You win': if two coin tosse are heads and print 'You lose' otherwise.\n"
      ],
      "metadata": {
        "id": "OMjbFHp9hRj_"
      }
    },
    {
      "cell_type": "code",
      "source": [
        "# Solution\n",
        "\n",
        "## First try (or attempt)\n",
        "\n",
        "First_attempt = np.random.rand()\n",
        "\n",
        "if First_attempt <= 0.5:\n",
        "  print('head', First_attempt)\n",
        "else:\n",
        "  print('tails', First_attempt)\n",
        "\n",
        "## Second try (or attempt)\n",
        "\n",
        "Secund_attempt = np.random.rand()\n",
        "\n",
        "if Secund_attempt <= 0.5:\n",
        "  print('head', Secund_attempt)\n",
        "else:\n",
        "  print('tails', Secund_attempt)\n",
        "\n",
        "if First_attempt <= 0.5 and Secund_attempt <= 0.5:\n",
        "\n",
        "  print('You win!')\n",
        "else:\n",
        "  print('You lose!')\n"
      ],
      "metadata": {
        "colab": {
          "base_uri": "https://localhost:8080/"
        },
        "id": "4q60EOZthr7W",
        "outputId": "cf5465f4-3c38-408f-ae2f-579093431730"
      },
      "execution_count": null,
      "outputs": [
        {
          "output_type": "stream",
          "name": "stdout",
          "text": [
            "head 0.4707497893815481\n",
            "head 0.06988916218428143\n",
            "You win!\n"
          ]
        }
      ]
    },
    {
      "cell_type": "code",
      "source": [
        "First_attempt  = np.random.rand()\n",
        "Second_attempt = np.random.rand()\n",
        "results        = np.array([['Heads','Tails']])\n",
        "indx1          = int(round(First_attempt,0))\n",
        "indx2          = int(round(Second_attempt,0))\n",
        "\n",
        "if First_attempt <= 0.5 and Second_attempt <= 0.5:\n",
        "  print('Head', First_attempt)\n",
        "  print('Head', Second_attempt)\n",
        "  print('You win!')\n",
        "\n",
        "else: \n",
        "  print(results[0,indx1], First_attempt)\n",
        "  print(results[0,indx2], Second_attempt)\n",
        "  print('You lose!')"
      ],
      "metadata": {
        "colab": {
          "base_uri": "https://localhost:8080/"
        },
        "id": "XjmgxS6NdcuM",
        "outputId": "69117aed-d96b-4093-d054-3a10206bdb4e"
      },
      "execution_count": null,
      "outputs": [
        {
          "output_type": "stream",
          "name": "stdout",
          "text": [
            "Heads 0.24827522293364568\n",
            "Tails 0.5783606011190101\n",
            "You lose!\n"
          ]
        }
      ]
    },
    {
      "cell_type": "code",
      "source": [
        "# One dimensional array\n",
        "\n",
        "np.random.rand(4)"
      ],
      "metadata": {
        "colab": {
          "base_uri": "https://localhost:8080/"
        },
        "id": "VoZwPVJegQKH",
        "outputId": "7ea8686a-97a7-4d49-ca7a-25b2cce7b8f2"
      },
      "execution_count": null,
      "outputs": [
        {
          "output_type": "execute_result",
          "data": {
            "text/plain": [
              "array([0.85038896, 0.84795263, 0.9217608 , 0.5459415 ])"
            ]
          },
          "metadata": {},
          "execution_count": 2
        }
      ]
    },
    {
      "cell_type": "code",
      "source": [
        "tries          = np.random.rand(2)\n",
        "results        = np.array([['Heads','Tails']])\n",
        "indx1          = int(round(tries[0],0))\n",
        "indx2          = int(round(tries[1],0))\n",
        "\n",
        "if tries[0] <= 0.5 and tries[1] <= 0.5:\n",
        "  print('Head', tries[0])\n",
        "  print('Head', tries[1])\n",
        "  print('You win!')\n",
        "\n",
        "else: \n",
        "  print(results[0,indx1], tries[0])\n",
        "  print(results[0,indx2], tries[1])\n",
        "  print('You lose!')"
      ],
      "metadata": {
        "colab": {
          "base_uri": "https://localhost:8080/"
        },
        "id": "3iBFMdMthidm",
        "outputId": "25b40518-c658-44bd-cf78-802fa67663e3"
      },
      "execution_count": null,
      "outputs": [
        {
          "output_type": "stream",
          "name": "stdout",
          "text": [
            "Tails 0.9794850463870691\n",
            "Heads 0.055005676474176646\n",
            "You lose!\n"
          ]
        }
      ]
    },
    {
      "cell_type": "code",
      "source": [
        "# Two dimensional arrays\n",
        "\n",
        "np.random.rand(7,8)"
      ],
      "metadata": {
        "colab": {
          "base_uri": "https://localhost:8080/"
        },
        "id": "gxcIS4h2jCF9",
        "outputId": "ecc33add-2af4-47ed-dbe5-ac1a5bcfd789"
      },
      "execution_count": null,
      "outputs": [
        {
          "output_type": "execute_result",
          "data": {
            "text/plain": [
              "array([[0.14604946, 0.67537592, 0.47768667, 0.64470287, 0.74746245,\n",
              "        0.01786449, 0.18034044, 0.54964668],\n",
              "       [0.49186188, 0.58954841, 0.44533039, 0.65695197, 0.34630896,\n",
              "        0.61650685, 0.58284496, 0.33358863],\n",
              "       [0.69868924, 0.50464381, 0.12465914, 0.42677561, 0.72845949,\n",
              "        0.29954459, 0.8127837 , 0.91779925],\n",
              "       [0.07325335, 0.45004093, 0.27709245, 0.42768441, 0.7837647 ,\n",
              "        0.48910035, 0.96490014, 0.12592468],\n",
              "       [0.2684272 , 0.16882972, 0.20702653, 0.78534743, 0.65981165,\n",
              "        0.84667628, 0.65262908, 0.95945779],\n",
              "       [0.05053573, 0.13178765, 0.64419252, 0.08679954, 0.3977318 ,\n",
              "        0.52754818, 0.64205149, 0.77675612],\n",
              "       [0.09664462, 0.48618018, 0.70475393, 0.26017201, 0.94662806,\n",
              "        0.84785299, 0.69514338, 0.81413464]])"
            ]
          },
          "metadata": {},
          "execution_count": 10
        }
      ]
    },
    {
      "cell_type": "markdown",
      "source": [
        "### Uniform distribution over [a,b)\n",
        "\n"
      ],
      "metadata": {
        "id": "Yim1A19SjZsl"
      }
    },
    {
      "cell_type": "code",
      "source": [
        "# One value\n",
        "np.random.uniform(low = 3, high = 5)"
      ],
      "metadata": {
        "colab": {
          "base_uri": "https://localhost:8080/"
        },
        "id": "F8hjG6mTjp29",
        "outputId": "45e52a52-e9d7-4ab8-d625-b69d5fa5fabd"
      },
      "execution_count": null,
      "outputs": [
        {
          "output_type": "execute_result",
          "data": {
            "text/plain": [
              "4.179664597223741"
            ]
          },
          "metadata": {},
          "execution_count": 24
        }
      ]
    },
    {
      "cell_type": "code",
      "source": [
        "# One dimensional\n",
        "np.random.uniform(low = -10, high = 0, size =10)"
      ],
      "metadata": {
        "colab": {
          "base_uri": "https://localhost:8080/"
        },
        "id": "gehd6EtOkPYO",
        "outputId": "4c721641-ac82-4627-feef-9610e7d717df"
      },
      "execution_count": null,
      "outputs": [
        {
          "output_type": "execute_result",
          "data": {
            "text/plain": [
              "array([-9.264989  , -7.65741423, -0.7886224 , -8.01404116, -6.48609077,\n",
              "       -0.96812101, -2.89335743, -1.21410243, -3.88468951, -0.47606115])"
            ]
          },
          "metadata": {},
          "execution_count": 25
        }
      ]
    },
    {
      "cell_type": "code",
      "source": [
        "# Two dimensional\n",
        "np.random.uniform(low = 3, high = 5, size = (4,2))"
      ],
      "metadata": {
        "colab": {
          "base_uri": "https://localhost:8080/"
        },
        "id": "UaahrTVMkYhe",
        "outputId": "1f241b96-ea98-4928-f38e-48816c982a75"
      },
      "execution_count": null,
      "outputs": [
        {
          "output_type": "execute_result",
          "data": {
            "text/plain": [
              "array([[3.83005599, 3.63270237],\n",
              "       [4.13068975, 3.13789289],\n",
              "       [3.71448146, 3.25924454],\n",
              "       [4.69847465, 4.77276399]])"
            ]
          },
          "metadata": {},
          "execution_count": 26
        }
      ]
    },
    {
      "cell_type": "markdown",
      "source": [
        "### Normal Distribution\n",
        "\n"
      ],
      "metadata": {
        "id": "4BCx34VWksd-"
      }
    },
    {
      "cell_type": "code",
      "source": [
        "# Standard Noraml - N ~ (0,1)\n",
        "\n",
        "np.random.randn()\n",
        "np.random.randn(8)\n",
        "np.random.randn(7,5)"
      ],
      "metadata": {
        "colab": {
          "base_uri": "https://localhost:8080/"
        },
        "id": "ytU12LWjkxKV",
        "outputId": "0a3770f3-18c4-42f7-eba3-cc399ec72588"
      },
      "execution_count": null,
      "outputs": [
        {
          "output_type": "execute_result",
          "data": {
            "text/plain": [
              "array([[-1.61478041,  1.25565383,  0.46552951,  0.98110702, -0.0335673 ],\n",
              "       [-1.18607947, -0.04527932, -1.35927056, -1.18263347, -0.17879766],\n",
              "       [ 0.06427539, -1.2082444 , -1.7015121 , -0.20381484, -0.09949221],\n",
              "       [-0.82400795, -0.02685212,  0.5884883 , -0.29917591,  0.22267159],\n",
              "       [-0.71821854,  0.66198508,  0.25061795,  0.66453703,  0.80292066],\n",
              "       [-0.78720369,  1.61521403,  0.29013996,  0.29382219, -1.29224162],\n",
              "       [ 1.54778926, -1.20719576,  1.92083882,  0.3056111 ,  1.04533897]])"
            ]
          },
          "metadata": {},
          "execution_count": 35
        }
      ]
    },
    {
      "cell_type": "code",
      "source": [
        "# Normal - N ~ (mu,sigma)\n",
        "\n",
        "mu    = 0.001  # mean\n",
        "sigma = 0.1    # std. deviation\n",
        "\n",
        "np.random.normal(mu, sigma)\n",
        "np.random.normal(mu, sigma, size = 5)\n",
        "np.random.normal(mu, sigma, size = (3,1))"
      ],
      "metadata": {
        "colab": {
          "base_uri": "https://localhost:8080/"
        },
        "id": "nEJPlvKWl2eH",
        "outputId": "dcae81c1-986e-46da-d2f9-d52ec5cfef4b"
      },
      "execution_count": null,
      "outputs": [
        {
          "output_type": "execute_result",
          "data": {
            "text/plain": [
              "array([[-0.00854717],\n",
              "       [-0.07543896],\n",
              "       [-0.02653613]])"
            ]
          },
          "metadata": {},
          "execution_count": 38
        }
      ]
    },
    {
      "cell_type": "markdown",
      "source": [
        "### Random Integer \n",
        "\n"
      ],
      "metadata": {
        "id": "NQLPs-AbmjYz"
      }
    },
    {
      "cell_type": "code",
      "source": [
        "np.random.randint(low = 0, high = 10) # one value \n",
        "np.random.randint(low = 0, high = 10, size = 8) # one dimension\n",
        "np.random.randint(low = 0, high = 10, size = (3,2)) # two dimension\n"
      ],
      "metadata": {
        "colab": {
          "base_uri": "https://localhost:8080/"
        },
        "id": "L1GNEMFTmrGj",
        "outputId": "35acbc34-6ce6-4f9d-def8-8c313d5e3818"
      },
      "execution_count": null,
      "outputs": [
        {
          "output_type": "execute_result",
          "data": {
            "text/plain": [
              "array([[1, 3],\n",
              "       [9, 4],\n",
              "       [7, 2]])"
            ]
          },
          "metadata": {},
          "execution_count": 42
        }
      ]
    },
    {
      "cell_type": "markdown",
      "source": [
        "## Exercise 1\n"
      ],
      "metadata": {
        "id": "5eRwmUjOdgzQ"
      }
    },
    {
      "cell_type": "code",
      "source": [
        "number = 5 # example \n",
        "\n",
        "'Even' if (number % 2) == 0 else 'Odd'"
      ],
      "metadata": {
        "colab": {
          "base_uri": "https://localhost:8080/",
          "height": 35
        },
        "id": "QG5S3Q7BdmJX",
        "outputId": "814c34ba-0d83-49b2-d27c-db3ebd98f035"
      },
      "execution_count": null,
      "outputs": [
        {
          "output_type": "execute_result",
          "data": {
            "text/plain": [
              "'Odd'"
            ],
            "application/vnd.google.colaboratory.intrinsic+json": {
              "type": "string"
            }
          },
          "metadata": {},
          "execution_count": 4
        }
      ]
    },
    {
      "cell_type": "code",
      "source": [
        "Bet_a_number  = 17\n",
        "Neutro        = (0)\n",
        "Red  = np.array([1,3,5,7,9,12,14,16,18,19,21,23,25,27,30,32,34,36])\n",
        "Black = np.array([2,4,6,8,10,11,13,15,17,20,22,24,26,28,29,31,33,35])\n",
        "number       = np.random.randint(low = 0, high = 37)\n",
        "print('Bet:', Bet_a_number, 'Black')\n",
        "if number == Bet_a_number:\n",
        "  print('Result:', number,',You win!')\n",
        "else:\n",
        "  print('Result:', number,',You loset!')\n",
        "\n",
        "\n"
      ],
      "metadata": {
        "colab": {
          "base_uri": "https://localhost:8080/"
        },
        "id": "nh-qy65Qe2Nn",
        "outputId": "478ed6a6-8213-4889-9e8f-954fb845829b"
      },
      "execution_count": null,
      "outputs": [
        {
          "output_type": "stream",
          "name": "stdout",
          "text": [
            "Bet: 17 Black\n",
            "Result: 12 ,You loset!\n"
          ]
        }
      ]
    },
    {
      "cell_type": "code",
      "source": [
        "Bet_a_number = 17\n",
        "print('Bet:', Bet_a_number, 'Black')\n",
        "number       = np.random.randint(low = 0, high = 37)\n",
        "'You win!' if (number % 2) == 0 else 'You Loset!'"
      ],
      "metadata": {
        "colab": {
          "base_uri": "https://localhost:8080/",
          "height": 53
        },
        "id": "0q267VukoiJ0",
        "outputId": "829654e3-3fe3-45c3-9a36-7776b7eeaf4b"
      },
      "execution_count": null,
      "outputs": [
        {
          "output_type": "stream",
          "name": "stdout",
          "text": [
            "Bet: 17 Black\n"
          ]
        },
        {
          "output_type": "execute_result",
          "data": {
            "text/plain": [
              "'You Loset!'"
            ],
            "application/vnd.google.colaboratory.intrinsic+json": {
              "type": "string"
            }
          },
          "metadata": {},
          "execution_count": 98
        }
      ]
    }
  ]
}